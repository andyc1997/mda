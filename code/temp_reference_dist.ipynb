{
 "cells": [
  {
   "cell_type": "code",
   "execution_count": 1,
   "metadata": {},
   "outputs": [],
   "source": [
    "# Library\n",
    "import numpy as np\n",
    "import pandas as pd"
   ]
  },
  {
   "cell_type": "markdown",
   "metadata": {},
   "source": [
    "**<font color='blue'> Notebook description</font>**\n",
    "\n",
    "<font color='blue'>This script converts meteorological features within the reference period into thresholds which determine a warm day. </font>"
   ]
  },
  {
   "cell_type": "code",
   "execution_count": 2,
   "metadata": {},
   "outputs": [],
   "source": [
    "# Import raw data - Belgium mortality \n",
    "ROW_SKIP = 13\n",
    "climate_brussels = pd.read_csv('../data/Daily_19830101_20081231_brussels.csv', skiprows = ROW_SKIP)\n",
    "climate_dinant = pd.read_csv('../data/Daily_19830101_20081231_dinant.csv',  skiprows = ROW_SKIP)\n",
    "climate_antwerp = pd.read_csv('../data/Daily_19830101_20081231_antwerp.csv', skiprows = ROW_SKIP)"
   ]
  },
  {
   "cell_type": "code",
   "execution_count": 3,
   "metadata": {},
   "outputs": [],
   "source": [
    "# Import raw data - Multiple countries\n",
    "ROW_SKIP = 11\n",
    "def read_file(filename, country):\n",
    "    data = pd.read_csv('../data/multi_countries/' + filename + '.csv', skiprows = ROW_SKIP)\n",
    "    data['COUNTRY'] = country \n",
    "    return data"
   ]
  },
  {
   "cell_type": "code",
   "execution_count": 4,
   "metadata": {},
   "outputs": [],
   "source": [
    "filenames = ['Belgium', 'France', 'Greece', 'Russia', 'Spain', 'UK', 'Romania']\n",
    "df_countries = []\n",
    "\n",
    "for filename in filenames:\n",
    "    data = read_file(filename + '_ref', filename)\n",
    "    df_countries.append(data)"
   ]
  },
  {
   "cell_type": "code",
   "execution_count": 5,
   "metadata": {},
   "outputs": [],
   "source": [
    "# Add region code\n",
    "region_name = 'REGION'\n",
    "climate_brussels[region_name] = 4000\n",
    "climate_antwerp[region_name] = 2000\n",
    "climate_dinant[region_name] = 3000"
   ]
  },
  {
   "cell_type": "code",
   "execution_count": 6,
   "metadata": {},
   "outputs": [],
   "source": [
    "# Concatenate dataframes from cities\n",
    "df_concat = pd.DataFrame().append([climate_brussels, climate_antwerp, climate_dinant])\n",
    "\n",
    "# Concatenate dataframes from countries\n",
    "df_countries = pd.DataFrame().append(df_countries)"
   ]
  },
  {
   "cell_type": "code",
   "execution_count": 7,
   "metadata": {},
   "outputs": [],
   "source": [
    "# Rename date columns\n",
    "date_dict = {'YEAR': 'YEAR', 'MO': 'MONTH', 'DY': 'DAY'}\n",
    "df_concat.rename(columns = date_dict, inplace = True)\n",
    "df_countries.rename(columns = date_dict, inplace = True)"
   ]
  },
  {
   "cell_type": "code",
   "execution_count": 8,
   "metadata": {},
   "outputs": [],
   "source": [
    "# Monthly distribution for each region\n",
    "class cleaner_climate():\n",
    "    def __init__(self, df_concat, group_list):\n",
    "        self.climate_city = df_concat\n",
    "        self.group_list = group_list\n",
    "        \n",
    "    def skip_year(self, year = None): \n",
    "        # Helper function to skip certain year, default: Don't skip\n",
    "        if year != None:\n",
    "            return self.climate_city[self.climate_city['YEAR'] != year]\n",
    "        else:\n",
    "            return self.climate_city \n",
    "        \n",
    "    def monthly_stat(self):\n",
    "        df_results = pd.DataFrame()\n",
    "        df_groupby = self.skip_year().groupby(self.group_list)\n",
    "        # Definition of threshold: 90th quantile of daily max temperature\n",
    "        df_results['TEMPMAX_90th'] = df_groupby['T2M_MAX'].quantile(.90)\n",
    "        return df_results"
   ]
  },
  {
   "cell_type": "code",
   "execution_count": 9,
   "metadata": {},
   "outputs": [],
   "source": [
    "# Clean data\n",
    "Cleaner = cleaner_climate(df_concat, ['REGION', 'MONTH'])\n",
    "climate = Cleaner.monthly_stat()\n",
    "\n",
    "Cleaner = cleaner_climate(df_countries, ['COUNTRY', 'MONTH'])\n",
    "climate_countries = Cleaner.monthly_stat()"
   ]
  },
  {
   "cell_type": "code",
   "execution_count": 10,
   "metadata": {},
   "outputs": [],
   "source": [
    "# Export the table of thresholds\n",
    "climate.reset_index().to_csv('../data/reference_dist_1983_to_2008.csv', index = False)\n",
    "climate_countries.reset_index().to_csv('../data/reference_europe_1983_to_2008.csv', index = False)"
   ]
  }
 ],
 "metadata": {
  "kernelspec": {
   "display_name": "Python 3",
   "language": "python",
   "name": "python3"
  },
  "language_info": {
   "codemirror_mode": {
    "name": "ipython",
    "version": 3
   },
   "file_extension": ".py",
   "mimetype": "text/x-python",
   "name": "python",
   "nbconvert_exporter": "python",
   "pygments_lexer": "ipython3",
   "version": "3.9.5"
  },
  "toc": {
   "base_numbering": 1,
   "nav_menu": {},
   "number_sections": true,
   "sideBar": true,
   "skip_h1_title": false,
   "title_cell": "Table of Contents",
   "title_sidebar": "Contents",
   "toc_cell": false,
   "toc_position": {},
   "toc_section_display": true,
   "toc_window_display": false
  }
 },
 "nbformat": 4,
 "nbformat_minor": 4
}
