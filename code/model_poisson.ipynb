{
 "cells": [
  {
   "cell_type": "code",
   "execution_count": 1,
   "metadata": {},
   "outputs": [],
   "source": [
    "import numpy as np\n",
    "import pandas as pd\n",
    "from matplotlib import pyplot as plt\n",
    "import seaborn as sns\n",
    "\n",
    "from sklearn.model_selection import RandomizedSearchCV, train_test_split\n",
    "from sklearn.metrics import mean_squared_error\n",
    "from sklearn.pipeline import Pipeline\n",
    "from sklearn.compose import ColumnTransformer\n",
    "from sklearn.preprocessing import StandardScaler, RobustScaler, OneHotEncoder\n",
    "from sklearn.decomposition import TruncatedSVD\n",
    "from sklearn.linear_model import PoissonRegressor\n",
    "\n",
    "from subset_helper import subset_helper"
   ]
  },
  {
   "cell_type": "markdown",
   "metadata": {},
   "source": [
    "**<font color='blue'>Notebook description</font>**\n",
    "\n",
    "<font color='blue'>We build a predictive model for the number of death using Poisson generalized linear model (GLM), and assess its performance.</font>"
   ]
  },
  {
   "cell_type": "code",
   "execution_count": 2,
   "metadata": {},
   "outputs": [],
   "source": [
    "# import data\n",
    "mortality = pd.read_csv('../data/mortality_merged.csv')"
   ]
  },
  {
   "cell_type": "markdown",
   "metadata": {},
   "source": [
    "**<font color='green'>Preprocessing steps</font>**"
   ]
  },
  {
   "cell_type": "code",
   "execution_count": 3,
   "metadata": {},
   "outputs": [],
   "source": [
    "mortality = subset_helper(mortality).subset()"
   ]
  },
  {
   "cell_type": "code",
   "execution_count": 4,
   "metadata": {},
   "outputs": [],
   "source": [
    "# Train-test split\n",
    "TEST_SIZE = 0.2\n",
    "SEED = 467051528\n",
    "X_train, X_test, y_train, y_test = train_test_split(mortality.drop('COUNT', axis = 1), \n",
    "                                                    mortality['COUNT'], \n",
    "                                                    test_size = TEST_SIZE,\n",
    "                                                    random_state = SEED,\n",
    "                                                    shuffle = True)"
   ]
  },
  {
   "cell_type": "code",
   "execution_count": 5,
   "metadata": {},
   "outputs": [],
   "source": [
    "# Preprocessing steps\n",
    "numeric_transformer = Pipeline(steps = [\n",
    "    ('scaler', StandardScaler())\n",
    "])\n",
    "categorical_transformer = OneHotEncoder(drop = 'first')\n",
    "\n",
    "categorical_features = ['REGION', 'AGE-GROUP', 'SEX', 'COD']\n",
    "numeric_features = X_train.columns.to_list()[6:]\n",
    "\n",
    "preprocessor = ColumnTransformer(\n",
    "    transformers = [\n",
    "        ('drop_columns', 'drop', ['YEAR', 'MONTH']),\n",
    "        ('num', numeric_transformer, numeric_features),\n",
    "        ('cat', categorical_transformer, categorical_features)\n",
    "    ])"
   ]
  },
  {
   "cell_type": "markdown",
   "metadata": {},
   "source": [
    "**<font color='green'>Hyperparameters tuning</font>**"
   ]
  },
  {
   "cell_type": "code",
   "execution_count": 6,
   "metadata": {},
   "outputs": [],
   "source": [
    "# Parameter grids\n",
    "n = np.arange(1, 16)\n",
    "alpha = np.arange(0, 2, 0.05)\n",
    "params = {'preprocessing__num' : [StandardScaler(), RobustScaler()], \n",
    "         'dimension_reduction__n_components': n,\n",
    "         'regressor__alpha': alpha}"
   ]
  },
  {
   "cell_type": "code",
   "execution_count": 7,
   "metadata": {},
   "outputs": [],
   "source": [
    "# Model\n",
    "model = Pipeline(steps = [\n",
    "    ('preprocessing', preprocessor),\n",
    "    ('dimension_reduction', TruncatedSVD()),\n",
    "    ('regressor', PoissonRegressor())\n",
    "])"
   ]
  },
  {
   "cell_type": "code",
   "execution_count": 8,
   "metadata": {},
   "outputs": [
    {
     "data": {
      "text/plain": [
       "RandomizedSearchCV(estimator=Pipeline(steps=[('preprocessing',\n",
       "                                              ColumnTransformer(transformers=[('drop_columns',\n",
       "                                                                               'drop',\n",
       "                                                                               ['YEAR',\n",
       "                                                                                'MONTH']),\n",
       "                                                                              ('num',\n",
       "                                                                               Pipeline(steps=[('scaler',\n",
       "                                                                                                StandardScaler())]),\n",
       "                                                                               ['TEMP_MEAN',\n",
       "                                                                                'TEMP_RNG',\n",
       "                                                                                'WS50M_MEAN',\n",
       "                                                                                'PRECTOT_MEAN',\n",
       "                                                                                'RH2M_MEAN',\n",
       "                                                                                'HEAT_DAYS']),\n",
       "                                                                              ('cat',\n",
       "                                                                               OneHotEncoder(drop='first'),\n",
       "                                                                               ['REGION',\n",
       "                                                                                'AGE-GROUP',\n",
       "                                                                                'SEX',\n",
       "                                                                                'COD'])])),\n",
       "                                             ('dimensio...\n",
       "                   param_distributions={'dimension_reduction__n_components': array([ 1,  2,  3,  4,  5,  6,  7,  8,  9, 10, 11, 12, 13, 14, 15]),\n",
       "                                        'preprocessing__num': [StandardScaler(),\n",
       "                                                               RobustScaler()],\n",
       "                                        'regressor__alpha': array([0.  , 0.05, 0.1 , 0.15, 0.2 , 0.25, 0.3 , 0.35, 0.4 , 0.45, 0.5 ,\n",
       "       0.55, 0.6 , 0.65, 0.7 , 0.75, 0.8 , 0.85, 0.9 , 0.95, 1.  , 1.05,\n",
       "       1.1 , 1.15, 1.2 , 1.25, 1.3 , 1.35, 1.4 , 1.45, 1.5 , 1.55, 1.6 ,\n",
       "       1.65, 1.7 , 1.75, 1.8 , 1.85, 1.9 , 1.95])},\n",
       "                   random_state=467051528)"
      ]
     },
     "execution_count": 8,
     "metadata": {},
     "output_type": "execute_result"
    }
   ],
   "source": [
    "# Grid search\n",
    "search = RandomizedSearchCV(model, \n",
    "                            param_distributions = params, \n",
    "                            random_state = SEED)\n",
    "search.fit(X_train, y_train)"
   ]
  },
  {
   "cell_type": "code",
   "execution_count": 9,
   "metadata": {},
   "outputs": [
    {
     "data": {
      "text/html": [
       "<div>\n",
       "<style scoped>\n",
       "    .dataframe tbody tr th:only-of-type {\n",
       "        vertical-align: middle;\n",
       "    }\n",
       "\n",
       "    .dataframe tbody tr th {\n",
       "        vertical-align: top;\n",
       "    }\n",
       "\n",
       "    .dataframe thead th {\n",
       "        text-align: right;\n",
       "    }\n",
       "</style>\n",
       "<table border=\"1\" class=\"dataframe\">\n",
       "  <thead>\n",
       "    <tr style=\"text-align: right;\">\n",
       "      <th></th>\n",
       "      <th>mean_fit_time</th>\n",
       "      <th>std_fit_time</th>\n",
       "      <th>mean_score_time</th>\n",
       "      <th>std_score_time</th>\n",
       "      <th>param_regressor__alpha</th>\n",
       "      <th>param_preprocessing__num</th>\n",
       "      <th>param_dimension_reduction__n_components</th>\n",
       "      <th>params</th>\n",
       "      <th>split0_test_score</th>\n",
       "      <th>split1_test_score</th>\n",
       "      <th>split2_test_score</th>\n",
       "      <th>split3_test_score</th>\n",
       "      <th>split4_test_score</th>\n",
       "      <th>mean_test_score</th>\n",
       "      <th>std_test_score</th>\n",
       "      <th>rank_test_score</th>\n",
       "    </tr>\n",
       "  </thead>\n",
       "  <tbody>\n",
       "    <tr>\n",
       "      <th>0</th>\n",
       "      <td>0.022773</td>\n",
       "      <td>0.007091</td>\n",
       "      <td>0.004004</td>\n",
       "      <td>0.000009</td>\n",
       "      <td>0.05</td>\n",
       "      <td>StandardScaler()</td>\n",
       "      <td>8</td>\n",
       "      <td>{'regressor__alpha': 0.05, 'preprocessing__num...</td>\n",
       "      <td>0.134693</td>\n",
       "      <td>0.064828</td>\n",
       "      <td>0.107603</td>\n",
       "      <td>0.164353</td>\n",
       "      <td>0.129571</td>\n",
       "      <td>0.120210</td>\n",
       "      <td>0.033082</td>\n",
       "      <td>6</td>\n",
       "    </tr>\n",
       "    <tr>\n",
       "      <th>1</th>\n",
       "      <td>0.019998</td>\n",
       "      <td>0.002535</td>\n",
       "      <td>0.004810</td>\n",
       "      <td>0.001606</td>\n",
       "      <td>1.1</td>\n",
       "      <td>RobustScaler()</td>\n",
       "      <td>6</td>\n",
       "      <td>{'regressor__alpha': 1.1, 'preprocessing__num'...</td>\n",
       "      <td>0.080018</td>\n",
       "      <td>0.022763</td>\n",
       "      <td>0.109227</td>\n",
       "      <td>0.140251</td>\n",
       "      <td>0.083319</td>\n",
       "      <td>0.087116</td>\n",
       "      <td>0.038777</td>\n",
       "      <td>8</td>\n",
       "    </tr>\n",
       "    <tr>\n",
       "      <th>2</th>\n",
       "      <td>0.021599</td>\n",
       "      <td>0.001958</td>\n",
       "      <td>0.004004</td>\n",
       "      <td>0.000006</td>\n",
       "      <td>0.3</td>\n",
       "      <td>StandardScaler()</td>\n",
       "      <td>10</td>\n",
       "      <td>{'regressor__alpha': 0.30000000000000004, 'pre...</td>\n",
       "      <td>0.187865</td>\n",
       "      <td>0.149516</td>\n",
       "      <td>0.144494</td>\n",
       "      <td>0.197089</td>\n",
       "      <td>0.136614</td>\n",
       "      <td>0.163116</td>\n",
       "      <td>0.024498</td>\n",
       "      <td>5</td>\n",
       "    </tr>\n",
       "    <tr>\n",
       "      <th>3</th>\n",
       "      <td>0.024810</td>\n",
       "      <td>0.002999</td>\n",
       "      <td>0.004800</td>\n",
       "      <td>0.001601</td>\n",
       "      <td>1.55</td>\n",
       "      <td>RobustScaler()</td>\n",
       "      <td>15</td>\n",
       "      <td>{'regressor__alpha': 1.55, 'preprocessing__num...</td>\n",
       "      <td>0.723223</td>\n",
       "      <td>0.735345</td>\n",
       "      <td>0.727603</td>\n",
       "      <td>0.743272</td>\n",
       "      <td>0.713081</td>\n",
       "      <td>0.728505</td>\n",
       "      <td>0.010310</td>\n",
       "      <td>1</td>\n",
       "    </tr>\n",
       "    <tr>\n",
       "      <th>4</th>\n",
       "      <td>0.015955</td>\n",
       "      <td>0.000099</td>\n",
       "      <td>0.004850</td>\n",
       "      <td>0.001582</td>\n",
       "      <td>0.5</td>\n",
       "      <td>StandardScaler()</td>\n",
       "      <td>5</td>\n",
       "      <td>{'regressor__alpha': 0.5, 'preprocessing__num'...</td>\n",
       "      <td>0.080836</td>\n",
       "      <td>0.028908</td>\n",
       "      <td>0.047305</td>\n",
       "      <td>0.059518</td>\n",
       "      <td>0.067555</td>\n",
       "      <td>0.056824</td>\n",
       "      <td>0.017714</td>\n",
       "      <td>9</td>\n",
       "    </tr>\n",
       "    <tr>\n",
       "      <th>5</th>\n",
       "      <td>0.023195</td>\n",
       "      <td>0.003001</td>\n",
       "      <td>0.004009</td>\n",
       "      <td>0.000007</td>\n",
       "      <td>1.3</td>\n",
       "      <td>RobustScaler()</td>\n",
       "      <td>10</td>\n",
       "      <td>{'regressor__alpha': 1.3, 'preprocessing__num'...</td>\n",
       "      <td>0.190167</td>\n",
       "      <td>0.159098</td>\n",
       "      <td>0.161568</td>\n",
       "      <td>0.199556</td>\n",
       "      <td>0.154862</td>\n",
       "      <td>0.173050</td>\n",
       "      <td>0.018182</td>\n",
       "      <td>4</td>\n",
       "    </tr>\n",
       "    <tr>\n",
       "      <th>6</th>\n",
       "      <td>0.024001</td>\n",
       "      <td>0.000009</td>\n",
       "      <td>0.004003</td>\n",
       "      <td>0.000009</td>\n",
       "      <td>0.3</td>\n",
       "      <td>StandardScaler()</td>\n",
       "      <td>14</td>\n",
       "      <td>{'regressor__alpha': 0.30000000000000004, 'pre...</td>\n",
       "      <td>0.608162</td>\n",
       "      <td>0.556612</td>\n",
       "      <td>0.491232</td>\n",
       "      <td>0.559638</td>\n",
       "      <td>0.528011</td>\n",
       "      <td>0.548731</td>\n",
       "      <td>0.038597</td>\n",
       "      <td>3</td>\n",
       "    </tr>\n",
       "    <tr>\n",
       "      <th>7</th>\n",
       "      <td>0.020203</td>\n",
       "      <td>0.000417</td>\n",
       "      <td>0.004807</td>\n",
       "      <td>0.001607</td>\n",
       "      <td>0.3</td>\n",
       "      <td>RobustScaler()</td>\n",
       "      <td>6</td>\n",
       "      <td>{'regressor__alpha': 0.30000000000000004, 'pre...</td>\n",
       "      <td>0.083142</td>\n",
       "      <td>0.020230</td>\n",
       "      <td>0.109890</td>\n",
       "      <td>0.142792</td>\n",
       "      <td>0.082910</td>\n",
       "      <td>0.087793</td>\n",
       "      <td>0.040307</td>\n",
       "      <td>7</td>\n",
       "    </tr>\n",
       "    <tr>\n",
       "      <th>8</th>\n",
       "      <td>0.012681</td>\n",
       "      <td>0.001672</td>\n",
       "      <td>0.004711</td>\n",
       "      <td>0.001663</td>\n",
       "      <td>1.2</td>\n",
       "      <td>StandardScaler()</td>\n",
       "      <td>1</td>\n",
       "      <td>{'regressor__alpha': 1.2000000000000002, 'prep...</td>\n",
       "      <td>-0.003395</td>\n",
       "      <td>-0.004568</td>\n",
       "      <td>-0.004287</td>\n",
       "      <td>-0.001096</td>\n",
       "      <td>-0.003265</td>\n",
       "      <td>-0.003322</td>\n",
       "      <td>0.001220</td>\n",
       "      <td>10</td>\n",
       "    </tr>\n",
       "    <tr>\n",
       "      <th>9</th>\n",
       "      <td>0.025609</td>\n",
       "      <td>0.003203</td>\n",
       "      <td>0.005598</td>\n",
       "      <td>0.001961</td>\n",
       "      <td>1.6</td>\n",
       "      <td>StandardScaler()</td>\n",
       "      <td>15</td>\n",
       "      <td>{'regressor__alpha': 1.6, 'preprocessing__num'...</td>\n",
       "      <td>0.712391</td>\n",
       "      <td>0.727766</td>\n",
       "      <td>0.718729</td>\n",
       "      <td>0.735367</td>\n",
       "      <td>0.703766</td>\n",
       "      <td>0.719604</td>\n",
       "      <td>0.011124</td>\n",
       "      <td>2</td>\n",
       "    </tr>\n",
       "  </tbody>\n",
       "</table>\n",
       "</div>"
      ],
      "text/plain": [
       "   mean_fit_time  std_fit_time  mean_score_time  std_score_time  \\\n",
       "0       0.022773      0.007091         0.004004        0.000009   \n",
       "1       0.019998      0.002535         0.004810        0.001606   \n",
       "2       0.021599      0.001958         0.004004        0.000006   \n",
       "3       0.024810      0.002999         0.004800        0.001601   \n",
       "4       0.015955      0.000099         0.004850        0.001582   \n",
       "5       0.023195      0.003001         0.004009        0.000007   \n",
       "6       0.024001      0.000009         0.004003        0.000009   \n",
       "7       0.020203      0.000417         0.004807        0.001607   \n",
       "8       0.012681      0.001672         0.004711        0.001663   \n",
       "9       0.025609      0.003203         0.005598        0.001961   \n",
       "\n",
       "  param_regressor__alpha param_preprocessing__num  \\\n",
       "0                   0.05         StandardScaler()   \n",
       "1                    1.1           RobustScaler()   \n",
       "2                    0.3         StandardScaler()   \n",
       "3                   1.55           RobustScaler()   \n",
       "4                    0.5         StandardScaler()   \n",
       "5                    1.3           RobustScaler()   \n",
       "6                    0.3         StandardScaler()   \n",
       "7                    0.3           RobustScaler()   \n",
       "8                    1.2         StandardScaler()   \n",
       "9                    1.6         StandardScaler()   \n",
       "\n",
       "  param_dimension_reduction__n_components  \\\n",
       "0                                       8   \n",
       "1                                       6   \n",
       "2                                      10   \n",
       "3                                      15   \n",
       "4                                       5   \n",
       "5                                      10   \n",
       "6                                      14   \n",
       "7                                       6   \n",
       "8                                       1   \n",
       "9                                      15   \n",
       "\n",
       "                                              params  split0_test_score  \\\n",
       "0  {'regressor__alpha': 0.05, 'preprocessing__num...           0.134693   \n",
       "1  {'regressor__alpha': 1.1, 'preprocessing__num'...           0.080018   \n",
       "2  {'regressor__alpha': 0.30000000000000004, 'pre...           0.187865   \n",
       "3  {'regressor__alpha': 1.55, 'preprocessing__num...           0.723223   \n",
       "4  {'regressor__alpha': 0.5, 'preprocessing__num'...           0.080836   \n",
       "5  {'regressor__alpha': 1.3, 'preprocessing__num'...           0.190167   \n",
       "6  {'regressor__alpha': 0.30000000000000004, 'pre...           0.608162   \n",
       "7  {'regressor__alpha': 0.30000000000000004, 'pre...           0.083142   \n",
       "8  {'regressor__alpha': 1.2000000000000002, 'prep...          -0.003395   \n",
       "9  {'regressor__alpha': 1.6, 'preprocessing__num'...           0.712391   \n",
       "\n",
       "   split1_test_score  split2_test_score  split3_test_score  split4_test_score  \\\n",
       "0           0.064828           0.107603           0.164353           0.129571   \n",
       "1           0.022763           0.109227           0.140251           0.083319   \n",
       "2           0.149516           0.144494           0.197089           0.136614   \n",
       "3           0.735345           0.727603           0.743272           0.713081   \n",
       "4           0.028908           0.047305           0.059518           0.067555   \n",
       "5           0.159098           0.161568           0.199556           0.154862   \n",
       "6           0.556612           0.491232           0.559638           0.528011   \n",
       "7           0.020230           0.109890           0.142792           0.082910   \n",
       "8          -0.004568          -0.004287          -0.001096          -0.003265   \n",
       "9           0.727766           0.718729           0.735367           0.703766   \n",
       "\n",
       "   mean_test_score  std_test_score  rank_test_score  \n",
       "0         0.120210        0.033082                6  \n",
       "1         0.087116        0.038777                8  \n",
       "2         0.163116        0.024498                5  \n",
       "3         0.728505        0.010310                1  \n",
       "4         0.056824        0.017714                9  \n",
       "5         0.173050        0.018182                4  \n",
       "6         0.548731        0.038597                3  \n",
       "7         0.087793        0.040307                7  \n",
       "8        -0.003322        0.001220               10  \n",
       "9         0.719604        0.011124                2  "
      ]
     },
     "execution_count": 9,
     "metadata": {},
     "output_type": "execute_result"
    }
   ],
   "source": [
    "# Summary of grid search\n",
    "pd.DataFrame(search.cv_results_)"
   ]
  },
  {
   "cell_type": "code",
   "execution_count": 10,
   "metadata": {},
   "outputs": [
    {
     "name": "stdout",
     "output_type": "stream",
     "text": [
      "{'regressor__alpha': 1.55, 'preprocessing__num': RobustScaler(), 'dimension_reduction__n_components': 15}\n",
      "Best scores:  0.7285049635013411\n"
     ]
    }
   ],
   "source": [
    "# Best fitted scores\n",
    "print(search.best_params_)\n",
    "print('Best scores: ', search.best_score_)"
   ]
  },
  {
   "cell_type": "markdown",
   "metadata": {},
   "source": [
    "**<font color='green'>Performance assessment</font>**"
   ]
  },
  {
   "cell_type": "code",
   "execution_count": 11,
   "metadata": {},
   "outputs": [],
   "source": [
    "# Test performance\n",
    "model_chosen = search.best_estimator_\n",
    "y_pred = model_chosen.predict(X_test)"
   ]
  },
  {
   "cell_type": "code",
   "execution_count": 12,
   "metadata": {},
   "outputs": [
    {
     "data": {
      "text/plain": [
       "1883.98957557381"
      ]
     },
     "execution_count": 12,
     "metadata": {},
     "output_type": "execute_result"
    }
   ],
   "source": [
    "# Test loss\n",
    "mean_squared_error(y_pred, y_test)"
   ]
  },
  {
   "cell_type": "code",
   "execution_count": 13,
   "metadata": {},
   "outputs": [
    {
     "data": {
      "text/plain": [
       "1802.8487029366718"
      ]
     },
     "execution_count": 13,
     "metadata": {},
     "output_type": "execute_result"
    }
   ],
   "source": [
    "# Training loss\n",
    "mean_squared_error(y_train, model_chosen.predict(X_train))"
   ]
  },
  {
   "cell_type": "code",
   "execution_count": 14,
   "metadata": {},
   "outputs": [
    {
     "name": "stderr",
     "output_type": "stream",
     "text": [
      "C:\\Users\\user\\anaconda3\\envs\\mda\\lib\\site-packages\\seaborn\\_decorators.py:36: FutureWarning: Pass the following variables as keyword args: x, y. From version 0.12, the only valid positional argument will be `data`, and passing other arguments without an explicit keyword will result in an error or misinterpretation.\n",
      "  warnings.warn(\n"
     ]
    },
    {
     "data": {
      "text/plain": [
       "<AxesSubplot:xlabel='COUNT'>"
      ]
     },
     "execution_count": 14,
     "metadata": {},
     "output_type": "execute_result"
    },
    {
     "data": {
      "image/png": "[encoded data removed]",
      "text/plain": [
       "<Figure size 432x288 with 1 Axes>"
      ]
     },
     "metadata": {
      "needs_background": "light"
     },
     "output_type": "display_data"
    }
   ],
   "source": [
    "# Test data: y_test, y_pred\n",
    "sns.regplot(y_test, y_pred, color = 'red')"
   ]
  },
  {
   "cell_type": "code",
   "execution_count": 15,
   "metadata": {},
   "outputs": [
    {
     "data": {
      "text/plain": [
       "array([[1.        , 0.85586323],\n",
       "       [0.85586323, 1.        ]])"
      ]
     },
     "execution_count": 15,
     "metadata": {},
     "output_type": "execute_result"
    }
   ],
   "source": [
    "# R-squared between y_pred and y_test\n",
    "np.corrcoef(y_test, y_pred)"
   ]
  },
  {
   "cell_type": "code",
   "execution_count": 16,
   "metadata": {},
   "outputs": [
    {
     "data": {
      "text/plain": [
       "<AxesSubplot:xlabel='COUNT'>"
      ]
     },
     "execution_count": 16,
     "metadata": {},
     "output_type": "execute_result"
    },
    {
     "data": {
      "image/png": "[encoded data removed]",
      "text/plain": [
       "<Figure size 432x288 with 1 Axes>"
      ]
     },
     "metadata": {
      "needs_background": "light"
     },
     "output_type": "display_data"
    }
   ],
   "source": [
    "# Training data: y_test, y_pred_train\n",
    "y_pred_train = model_chosen.predict(X_train)\n",
    "sns.regplot(x = y_train, y = y_pred_train, color = 'blue')"
   ]
  },
  {
   "cell_type": "code",
   "execution_count": 17,
   "metadata": {},
   "outputs": [
    {
     "data": {
      "text/plain": [
       "array([[1.        , 0.86980847],\n",
       "       [0.86980847, 1.        ]])"
      ]
     },
     "execution_count": 17,
     "metadata": {},
     "output_type": "execute_result"
    }
   ],
   "source": [
    "# R-squared between y_pred and y_pred_train\n",
    "np.corrcoef(y_train, y_pred_train)"
   ]
  }
 ],
 "metadata": {
  "kernelspec": {
   "display_name": "Python 3",
   "language": "python",
   "name": "python3"
  },
  "language_info": {
   "codemirror_mode": {
    "name": "ipython",
    "version": 3
   },
   "file_extension": ".py",
   "mimetype": "text/x-python",
   "name": "python",
   "nbconvert_exporter": "python",
   "pygments_lexer": "ipython3",
   "version": "3.9.5"
  },
  "toc": {
   "base_numbering": 1,
   "nav_menu": {},
   "number_sections": true,
   "sideBar": true,
   "skip_h1_title": false,
   "title_cell": "Table of Contents",
   "title_sidebar": "Contents",
   "toc_cell": false,
   "toc_position": {},
   "toc_section_display": true,
   "toc_window_display": false
  }
 },
 "nbformat": 4,
 "nbformat_minor": 4
}
