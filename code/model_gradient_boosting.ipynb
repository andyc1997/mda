{
 "cells": [
  {
   "cell_type": "code",
   "execution_count": 1,
   "metadata": {},
   "outputs": [],
   "source": [
    "import numpy as np\n",
    "import pandas as pd\n",
    "import seaborn as sns\n",
    "\n",
    "from sklearn.model_selection import RandomizedSearchCV, train_test_split\n",
    "from sklearn.metrics import mean_squared_error\n",
    "from sklearn.pipeline import Pipeline\n",
    "from sklearn.compose import ColumnTransformer\n",
    "from sklearn.preprocessing import StandardScaler, RobustScaler, OneHotEncoder, FunctionTransformer\n",
    "from sklearn.experimental import enable_hist_gradient_boosting\n",
    "from sklearn.ensemble import HistGradientBoostingRegressor\n",
    "\n",
    "from subset_helper import subset_helper\n",
    "import dill # Save the best model"
   ]
  },
  {
   "cell_type": "markdown",
   "metadata": {},
   "source": [
    "**<font color='blue'>Notebook description</font>**\n",
    "\n",
    "<font color='blue'>We build a predictive model for the number of death using histogram-based gradient boosting, and compare its performance to Poisson GLM. The advantage of histogram-based gradient boosting is that poisson deviance is allowed to be used as loss.</font>"
   ]
  },
  {
   "cell_type": "code",
   "execution_count": 2,
   "metadata": {},
   "outputs": [],
   "source": [
    "# import data\n",
    "mortality = pd.read_csv('../data/mortality_merged.csv')"
   ]
  },
  {
   "cell_type": "markdown",
   "metadata": {},
   "source": [
    "**<font color='green'>Preprocessing steps</font>**"
   ]
  },
  {
   "cell_type": "code",
   "execution_count": 3,
   "metadata": {},
   "outputs": [],
   "source": [
    "mortality = subset_helper(mortality).subset()"
   ]
  },
  {
   "cell_type": "code",
   "execution_count": 4,
   "metadata": {},
   "outputs": [],
   "source": [
    "# Train-test split\n",
    "TEST_SIZE = 0.2\n",
    "SEED = 467051528\n",
    "X_train, X_test, y_train, y_test = train_test_split(mortality.drop('COUNT', axis = 1), \n",
    "                                                    mortality['COUNT'], \n",
    "                                                    test_size = TEST_SIZE,\n",
    "                                                    random_state = SEED,\n",
    "                                                    shuffle = True)"
   ]
  },
  {
   "cell_type": "code",
   "execution_count": 5,
   "metadata": {},
   "outputs": [],
   "source": [
    "# Preprocessing steps\n",
    "numeric_transformer = Pipeline(steps = [\n",
    "    ('scaler', StandardScaler())\n",
    "])\n",
    "categorical_transformer = OneHotEncoder(drop = 'first')\n",
    "\n",
    "categorical_features = ['REGION', 'AGE-GROUP', 'SEX', 'COD']\n",
    "numeric_features = X_train.columns.to_list()[6:]\n",
    "\n",
    "preprocessor = ColumnTransformer(\n",
    "    transformers = [\n",
    "        ('drop_columns', 'drop', ['YEAR', 'MONTH']),\n",
    "        ('num', numeric_transformer, numeric_features),\n",
    "        ('cat', categorical_transformer, categorical_features)\n",
    "    ])"
   ]
  },
  {
   "cell_type": "markdown",
   "metadata": {},
   "source": [
    "**<font color='green'>Hyperparameters tuning</font>**"
   ]
  },
  {
   "cell_type": "code",
   "execution_count": 6,
   "metadata": {},
   "outputs": [],
   "source": [
    "# Parameter grids\n",
    "learning_rate = np.arange(0.01, 0.2, 0.02)\n",
    "max_iter = np.arange(100, 1000, 100)\n",
    "max_leaf_nodes = np.arange(10, 50, 5)\n",
    "max_depth = np.arange(2, 10, 1)\n",
    "l2_regularization = np.arange(0, 4, 0.05)\n",
    "\n",
    "params = {'preprocessing__num' : [StandardScaler(), RobustScaler()], \n",
    "         'regressor__loss': ['least_squares', 'least_absolute_deviation', 'poisson'], \n",
    "         'regressor__learning_rate': learning_rate, \n",
    "         'regressor__max_iter': max_iter,\n",
    "         'regressor__max_leaf_nodes': max_leaf_nodes,\n",
    "         'regressor__max_depth': max_depth,\n",
    "         'regressor__l2_regularization': l2_regularization}"
   ]
  },
  {
   "cell_type": "code",
   "execution_count": 7,
   "metadata": {},
   "outputs": [],
   "source": [
    "# Model\n",
    "model = Pipeline(steps = [\n",
    "    ('preprocessing', preprocessor),\n",
    "    ('regressor', HistGradientBoostingRegressor(categorical_features = np.arange(len(numeric_features), 16)))\n",
    "])"
   ]
  },
  {
   "cell_type": "code",
   "execution_count": 8,
   "metadata": {},
   "outputs": [
    {
     "data": {
      "text/plain": [
       "RandomizedSearchCV(estimator=Pipeline(steps=[('preprocessing',\n",
       "                                              ColumnTransformer(transformers=[('drop_columns',\n",
       "                                                                               'drop',\n",
       "                                                                               ['YEAR',\n",
       "                                                                                'MONTH']),\n",
       "                                                                              ('num',\n",
       "                                                                               Pipeline(steps=[('scaler',\n",
       "                                                                                                StandardScaler())]),\n",
       "                                                                               ['TEMP_MEAN',\n",
       "                                                                                'TEMP_RNG',\n",
       "                                                                                'WS50M_MEAN',\n",
       "                                                                                'PRECTOT_MEAN',\n",
       "                                                                                'RH2M_MEAN',\n",
       "                                                                                'HEAT_DAYS']),\n",
       "                                                                              ('cat',\n",
       "                                                                               OneHotEncoder(drop='first'),\n",
       "                                                                               ['REGION',\n",
       "                                                                                'AGE-GROUP',\n",
       "                                                                                'SEX',\n",
       "                                                                                'COD'])])),\n",
       "                                             ('regresso...\n",
       "                                        'regressor__learning_rate': array([0.01, 0.03, 0.05, 0.07, 0.09, 0.11, 0.13, 0.15, 0.17, 0.19]),\n",
       "                                        'regressor__loss': ['least_squares',\n",
       "                                                            'least_absolute_deviation',\n",
       "                                                            'poisson'],\n",
       "                                        'regressor__max_depth': array([2, 3, 4, 5, 6, 7, 8, 9]),\n",
       "                                        'regressor__max_iter': array([100, 200, 300, 400, 500, 600, 700, 800, 900]),\n",
       "                                        'regressor__max_leaf_nodes': array([10, 15, 20, 25, 30, 35, 40, 45])},\n",
       "                   random_state=467051528)"
      ]
     },
     "execution_count": 8,
     "metadata": {},
     "output_type": "execute_result"
    }
   ],
   "source": [
    "# Grid search\n",
    "search = RandomizedSearchCV(model, \n",
    "                            param_distributions = params, \n",
    "                            random_state = SEED)\n",
    "search.fit(X_train, y_train)"
   ]
  },
  {
   "cell_type": "code",
   "execution_count": 9,
   "metadata": {},
   "outputs": [
    {
     "data": {
      "text/html": [
       "<div>\n",
       "<style scoped>\n",
       "    .dataframe tbody tr th:only-of-type {\n",
       "        vertical-align: middle;\n",
       "    }\n",
       "\n",
       "    .dataframe tbody tr th {\n",
       "        vertical-align: top;\n",
       "    }\n",
       "\n",
       "    .dataframe thead th {\n",
       "        text-align: right;\n",
       "    }\n",
       "</style>\n",
       "<table border=\"1\" class=\"dataframe\">\n",
       "  <thead>\n",
       "    <tr style=\"text-align: right;\">\n",
       "      <th></th>\n",
       "      <th>mean_fit_time</th>\n",
       "      <th>std_fit_time</th>\n",
       "      <th>mean_score_time</th>\n",
       "      <th>std_score_time</th>\n",
       "      <th>param_regressor__max_leaf_nodes</th>\n",
       "      <th>param_regressor__max_iter</th>\n",
       "      <th>param_regressor__max_depth</th>\n",
       "      <th>param_regressor__loss</th>\n",
       "      <th>param_regressor__learning_rate</th>\n",
       "      <th>param_regressor__l2_regularization</th>\n",
       "      <th>param_preprocessing__num</th>\n",
       "      <th>params</th>\n",
       "      <th>split0_test_score</th>\n",
       "      <th>split1_test_score</th>\n",
       "      <th>split2_test_score</th>\n",
       "      <th>split3_test_score</th>\n",
       "      <th>split4_test_score</th>\n",
       "      <th>mean_test_score</th>\n",
       "      <th>std_test_score</th>\n",
       "      <th>rank_test_score</th>\n",
       "    </tr>\n",
       "  </thead>\n",
       "  <tbody>\n",
       "    <tr>\n",
       "      <th>0</th>\n",
       "      <td>5.371155</td>\n",
       "      <td>0.068718</td>\n",
       "      <td>0.021669</td>\n",
       "      <td>0.001723</td>\n",
       "      <td>45</td>\n",
       "      <td>900</td>\n",
       "      <td>8</td>\n",
       "      <td>least_squares</td>\n",
       "      <td>0.15</td>\n",
       "      <td>1.45</td>\n",
       "      <td>RobustScaler()</td>\n",
       "      <td>{'regressor__max_leaf_nodes': 45, 'regressor__...</td>\n",
       "      <td>0.978750</td>\n",
       "      <td>0.975119</td>\n",
       "      <td>0.977450</td>\n",
       "      <td>0.975859</td>\n",
       "      <td>0.982184</td>\n",
       "      <td>0.977872</td>\n",
       "      <td>0.002497</td>\n",
       "      <td>4</td>\n",
       "    </tr>\n",
       "    <tr>\n",
       "      <th>1</th>\n",
       "      <td>0.450472</td>\n",
       "      <td>0.007613</td>\n",
       "      <td>0.008202</td>\n",
       "      <td>0.000980</td>\n",
       "      <td>25</td>\n",
       "      <td>200</td>\n",
       "      <td>4</td>\n",
       "      <td>least_squares</td>\n",
       "      <td>0.05</td>\n",
       "      <td>3.9</td>\n",
       "      <td>RobustScaler()</td>\n",
       "      <td>{'regressor__max_leaf_nodes': 25, 'regressor__...</td>\n",
       "      <td>0.925286</td>\n",
       "      <td>0.942751</td>\n",
       "      <td>0.928117</td>\n",
       "      <td>0.922333</td>\n",
       "      <td>0.928051</td>\n",
       "      <td>0.929308</td>\n",
       "      <td>0.007050</td>\n",
       "      <td>8</td>\n",
       "    </tr>\n",
       "    <tr>\n",
       "      <th>2</th>\n",
       "      <td>3.343089</td>\n",
       "      <td>0.016637</td>\n",
       "      <td>0.011803</td>\n",
       "      <td>0.000400</td>\n",
       "      <td>40</td>\n",
       "      <td>400</td>\n",
       "      <td>8</td>\n",
       "      <td>least_absolute_deviation</td>\n",
       "      <td>0.15</td>\n",
       "      <td>1.35</td>\n",
       "      <td>RobustScaler()</td>\n",
       "      <td>{'regressor__max_leaf_nodes': 40, 'regressor__...</td>\n",
       "      <td>0.962581</td>\n",
       "      <td>0.977725</td>\n",
       "      <td>0.979613</td>\n",
       "      <td>0.971324</td>\n",
       "      <td>0.978253</td>\n",
       "      <td>0.973899</td>\n",
       "      <td>0.006340</td>\n",
       "      <td>6</td>\n",
       "    </tr>\n",
       "    <tr>\n",
       "      <th>3</th>\n",
       "      <td>1.603819</td>\n",
       "      <td>0.014806</td>\n",
       "      <td>0.011402</td>\n",
       "      <td>0.000490</td>\n",
       "      <td>20</td>\n",
       "      <td>400</td>\n",
       "      <td>8</td>\n",
       "      <td>poisson</td>\n",
       "      <td>0.05</td>\n",
       "      <td>0.65</td>\n",
       "      <td>StandardScaler()</td>\n",
       "      <td>{'regressor__max_leaf_nodes': 20, 'regressor__...</td>\n",
       "      <td>0.984501</td>\n",
       "      <td>0.981516</td>\n",
       "      <td>0.985523</td>\n",
       "      <td>0.980851</td>\n",
       "      <td>0.988058</td>\n",
       "      <td>0.984090</td>\n",
       "      <td>0.002649</td>\n",
       "      <td>1</td>\n",
       "    </tr>\n",
       "    <tr>\n",
       "      <th>4</th>\n",
       "      <td>0.076646</td>\n",
       "      <td>0.000742</td>\n",
       "      <td>0.006425</td>\n",
       "      <td>0.000473</td>\n",
       "      <td>40</td>\n",
       "      <td>100</td>\n",
       "      <td>2</td>\n",
       "      <td>least_squares</td>\n",
       "      <td>0.07</td>\n",
       "      <td>2.45</td>\n",
       "      <td>StandardScaler()</td>\n",
       "      <td>{'regressor__max_leaf_nodes': 40, 'regressor__...</td>\n",
       "      <td>0.633072</td>\n",
       "      <td>0.673947</td>\n",
       "      <td>0.632650</td>\n",
       "      <td>0.629849</td>\n",
       "      <td>0.614644</td>\n",
       "      <td>0.636833</td>\n",
       "      <td>0.019749</td>\n",
       "      <td>9</td>\n",
       "    </tr>\n",
       "    <tr>\n",
       "      <th>5</th>\n",
       "      <td>1.265783</td>\n",
       "      <td>0.005614</td>\n",
       "      <td>0.013803</td>\n",
       "      <td>0.000749</td>\n",
       "      <td>10</td>\n",
       "      <td>600</td>\n",
       "      <td>8</td>\n",
       "      <td>least_squares</td>\n",
       "      <td>0.07</td>\n",
       "      <td>3.0</td>\n",
       "      <td>StandardScaler()</td>\n",
       "      <td>{'regressor__max_leaf_nodes': 10, 'regressor__...</td>\n",
       "      <td>0.981248</td>\n",
       "      <td>0.981076</td>\n",
       "      <td>0.981532</td>\n",
       "      <td>0.980373</td>\n",
       "      <td>0.984842</td>\n",
       "      <td>0.981814</td>\n",
       "      <td>0.001561</td>\n",
       "      <td>2</td>\n",
       "    </tr>\n",
       "    <tr>\n",
       "      <th>6</th>\n",
       "      <td>0.577699</td>\n",
       "      <td>0.003710</td>\n",
       "      <td>0.006201</td>\n",
       "      <td>0.000400</td>\n",
       "      <td>30</td>\n",
       "      <td>100</td>\n",
       "      <td>9</td>\n",
       "      <td>poisson</td>\n",
       "      <td>0.19</td>\n",
       "      <td>1.05</td>\n",
       "      <td>StandardScaler()</td>\n",
       "      <td>{'regressor__max_leaf_nodes': 30, 'regressor__...</td>\n",
       "      <td>0.982610</td>\n",
       "      <td>0.972384</td>\n",
       "      <td>0.977599</td>\n",
       "      <td>0.966159</td>\n",
       "      <td>0.984737</td>\n",
       "      <td>0.976698</td>\n",
       "      <td>0.006783</td>\n",
       "      <td>5</td>\n",
       "    </tr>\n",
       "    <tr>\n",
       "      <th>7</th>\n",
       "      <td>1.005309</td>\n",
       "      <td>0.005310</td>\n",
       "      <td>0.017804</td>\n",
       "      <td>0.000749</td>\n",
       "      <td>10</td>\n",
       "      <td>800</td>\n",
       "      <td>3</td>\n",
       "      <td>poisson</td>\n",
       "      <td>0.09</td>\n",
       "      <td>0.75</td>\n",
       "      <td>RobustScaler()</td>\n",
       "      <td>{'regressor__max_leaf_nodes': 10, 'regressor__...</td>\n",
       "      <td>0.979148</td>\n",
       "      <td>0.981578</td>\n",
       "      <td>0.981666</td>\n",
       "      <td>0.980424</td>\n",
       "      <td>0.980720</td>\n",
       "      <td>0.980707</td>\n",
       "      <td>0.000915</td>\n",
       "      <td>3</td>\n",
       "    </tr>\n",
       "    <tr>\n",
       "      <th>8</th>\n",
       "      <td>4.070199</td>\n",
       "      <td>0.041154</td>\n",
       "      <td>0.017404</td>\n",
       "      <td>0.000490</td>\n",
       "      <td>20</td>\n",
       "      <td>800</td>\n",
       "      <td>8</td>\n",
       "      <td>least_absolute_deviation</td>\n",
       "      <td>0.05</td>\n",
       "      <td>1.35</td>\n",
       "      <td>RobustScaler()</td>\n",
       "      <td>{'regressor__max_leaf_nodes': 20, 'regressor__...</td>\n",
       "      <td>0.971579</td>\n",
       "      <td>0.972909</td>\n",
       "      <td>0.977951</td>\n",
       "      <td>0.973117</td>\n",
       "      <td>0.973405</td>\n",
       "      <td>0.973792</td>\n",
       "      <td>0.002172</td>\n",
       "      <td>7</td>\n",
       "    </tr>\n",
       "    <tr>\n",
       "      <th>9</th>\n",
       "      <td>0.860450</td>\n",
       "      <td>0.003655</td>\n",
       "      <td>0.018804</td>\n",
       "      <td>0.000400</td>\n",
       "      <td>30</td>\n",
       "      <td>900</td>\n",
       "      <td>2</td>\n",
       "      <td>least_absolute_deviation</td>\n",
       "      <td>0.17</td>\n",
       "      <td>3.55</td>\n",
       "      <td>StandardScaler()</td>\n",
       "      <td>{'regressor__max_leaf_nodes': 30, 'regressor__...</td>\n",
       "      <td>0.536933</td>\n",
       "      <td>0.612362</td>\n",
       "      <td>0.577762</td>\n",
       "      <td>0.571493</td>\n",
       "      <td>0.545415</td>\n",
       "      <td>0.568793</td>\n",
       "      <td>0.026637</td>\n",
       "      <td>10</td>\n",
       "    </tr>\n",
       "  </tbody>\n",
       "</table>\n",
       "</div>"
      ],
      "text/plain": [
       "   mean_fit_time  std_fit_time  mean_score_time  std_score_time  \\\n",
       "0       5.371155      0.068718         0.021669        0.001723   \n",
       "1       0.450472      0.007613         0.008202        0.000980   \n",
       "2       3.343089      0.016637         0.011803        0.000400   \n",
       "3       1.603819      0.014806         0.011402        0.000490   \n",
       "4       0.076646      0.000742         0.006425        0.000473   \n",
       "5       1.265783      0.005614         0.013803        0.000749   \n",
       "6       0.577699      0.003710         0.006201        0.000400   \n",
       "7       1.005309      0.005310         0.017804        0.000749   \n",
       "8       4.070199      0.041154         0.017404        0.000490   \n",
       "9       0.860450      0.003655         0.018804        0.000400   \n",
       "\n",
       "  param_regressor__max_leaf_nodes param_regressor__max_iter  \\\n",
       "0                              45                       900   \n",
       "1                              25                       200   \n",
       "2                              40                       400   \n",
       "3                              20                       400   \n",
       "4                              40                       100   \n",
       "5                              10                       600   \n",
       "6                              30                       100   \n",
       "7                              10                       800   \n",
       "8                              20                       800   \n",
       "9                              30                       900   \n",
       "\n",
       "  param_regressor__max_depth     param_regressor__loss  \\\n",
       "0                          8             least_squares   \n",
       "1                          4             least_squares   \n",
       "2                          8  least_absolute_deviation   \n",
       "3                          8                   poisson   \n",
       "4                          2             least_squares   \n",
       "5                          8             least_squares   \n",
       "6                          9                   poisson   \n",
       "7                          3                   poisson   \n",
       "8                          8  least_absolute_deviation   \n",
       "9                          2  least_absolute_deviation   \n",
       "\n",
       "  param_regressor__learning_rate param_regressor__l2_regularization  \\\n",
       "0                           0.15                               1.45   \n",
       "1                           0.05                                3.9   \n",
       "2                           0.15                               1.35   \n",
       "3                           0.05                               0.65   \n",
       "4                           0.07                               2.45   \n",
       "5                           0.07                                3.0   \n",
       "6                           0.19                               1.05   \n",
       "7                           0.09                               0.75   \n",
       "8                           0.05                               1.35   \n",
       "9                           0.17                               3.55   \n",
       "\n",
       "  param_preprocessing__num                                             params  \\\n",
       "0           RobustScaler()  {'regressor__max_leaf_nodes': 45, 'regressor__...   \n",
       "1           RobustScaler()  {'regressor__max_leaf_nodes': 25, 'regressor__...   \n",
       "2           RobustScaler()  {'regressor__max_leaf_nodes': 40, 'regressor__...   \n",
       "3         StandardScaler()  {'regressor__max_leaf_nodes': 20, 'regressor__...   \n",
       "4         StandardScaler()  {'regressor__max_leaf_nodes': 40, 'regressor__...   \n",
       "5         StandardScaler()  {'regressor__max_leaf_nodes': 10, 'regressor__...   \n",
       "6         StandardScaler()  {'regressor__max_leaf_nodes': 30, 'regressor__...   \n",
       "7           RobustScaler()  {'regressor__max_leaf_nodes': 10, 'regressor__...   \n",
       "8           RobustScaler()  {'regressor__max_leaf_nodes': 20, 'regressor__...   \n",
       "9         StandardScaler()  {'regressor__max_leaf_nodes': 30, 'regressor__...   \n",
       "\n",
       "   split0_test_score  split1_test_score  split2_test_score  split3_test_score  \\\n",
       "0           0.978750           0.975119           0.977450           0.975859   \n",
       "1           0.925286           0.942751           0.928117           0.922333   \n",
       "2           0.962581           0.977725           0.979613           0.971324   \n",
       "3           0.984501           0.981516           0.985523           0.980851   \n",
       "4           0.633072           0.673947           0.632650           0.629849   \n",
       "5           0.981248           0.981076           0.981532           0.980373   \n",
       "6           0.982610           0.972384           0.977599           0.966159   \n",
       "7           0.979148           0.981578           0.981666           0.980424   \n",
       "8           0.971579           0.972909           0.977951           0.973117   \n",
       "9           0.536933           0.612362           0.577762           0.571493   \n",
       "\n",
       "   split4_test_score  mean_test_score  std_test_score  rank_test_score  \n",
       "0           0.982184         0.977872        0.002497                4  \n",
       "1           0.928051         0.929308        0.007050                8  \n",
       "2           0.978253         0.973899        0.006340                6  \n",
       "3           0.988058         0.984090        0.002649                1  \n",
       "4           0.614644         0.636833        0.019749                9  \n",
       "5           0.984842         0.981814        0.001561                2  \n",
       "6           0.984737         0.976698        0.006783                5  \n",
       "7           0.980720         0.980707        0.000915                3  \n",
       "8           0.973405         0.973792        0.002172                7  \n",
       "9           0.545415         0.568793        0.026637               10  "
      ]
     },
     "execution_count": 9,
     "metadata": {},
     "output_type": "execute_result"
    }
   ],
   "source": [
    "# Summary of grid search\n",
    "pd.DataFrame(search.cv_results_)"
   ]
  },
  {
   "cell_type": "code",
   "execution_count": 10,
   "metadata": {},
   "outputs": [
    {
     "name": "stdout",
     "output_type": "stream",
     "text": [
      "{'regressor__max_leaf_nodes': 20, 'regressor__max_iter': 400, 'regressor__max_depth': 8, 'regressor__loss': 'poisson', 'regressor__learning_rate': 0.049999999999999996, 'regressor__l2_regularization': 0.65, 'preprocessing__num': StandardScaler()}\n",
      "Best scores:  0.9840899005080518\n"
     ]
    }
   ],
   "source": [
    "# Best fitted scores\n",
    "print(search.best_params_)\n",
    "print('Best scores: ', search.best_score_)"
   ]
  },
  {
   "cell_type": "markdown",
   "metadata": {},
   "source": [
    "**<font color='green'>Performance assessment</font>**"
   ]
  },
  {
   "cell_type": "code",
   "execution_count": 11,
   "metadata": {},
   "outputs": [],
   "source": [
    "# Test performance\n",
    "model_chosen = search.best_estimator_\n",
    "y_pred = model_chosen.predict(X_test)"
   ]
  },
  {
   "cell_type": "code",
   "execution_count": 12,
   "metadata": {},
   "outputs": [
    {
     "data": {
      "text/plain": [
       "74.64531510566444"
      ]
     },
     "execution_count": 12,
     "metadata": {},
     "output_type": "execute_result"
    }
   ],
   "source": [
    "# Test loss\n",
    "mean_squared_error(y_pred, y_test)"
   ]
  },
  {
   "cell_type": "code",
   "execution_count": 13,
   "metadata": {},
   "outputs": [
    {
     "data": {
      "text/plain": [
       "20.51470395796455"
      ]
     },
     "execution_count": 13,
     "metadata": {},
     "output_type": "execute_result"
    }
   ],
   "source": [
    "# Training loss\n",
    "mean_squared_error(y_train, model_chosen.predict(X_train))"
   ]
  },
  {
   "cell_type": "code",
   "execution_count": 14,
   "metadata": {},
   "outputs": [
    {
     "name": "stderr",
     "output_type": "stream",
     "text": [
      "C:\\Users\\user\\anaconda3\\envs\\mda\\lib\\site-packages\\seaborn\\_decorators.py:36: FutureWarning: Pass the following variables as keyword args: x, y. From version 0.12, the only valid positional argument will be `data`, and passing other arguments without an explicit keyword will result in an error or misinterpretation.\n",
      "  warnings.warn(\n"
     ]
    },
    {
     "data": {
      "text/plain": [
       "<AxesSubplot:xlabel='COUNT'>"
      ]
     },
     "execution_count": 14,
     "metadata": {},
     "output_type": "execute_result"
    },
    {
     "data": {
      "image/png": "[encoded data removed]",
      "text/plain": [
       "<Figure size 432x288 with 1 Axes>"
      ]
     },
     "metadata": {
      "needs_background": "light"
     },
     "output_type": "display_data"
    }
   ],
   "source": [
    "# Test data: y_test, y_pred\n",
    "sns.regplot(y_test, y_pred, color = 'red')"
   ]
  },
  {
   "cell_type": "code",
   "execution_count": 15,
   "metadata": {},
   "outputs": [
    {
     "data": {
      "text/plain": [
       "array([[1.        , 0.99315404],\n",
       "       [0.99315404, 1.        ]])"
      ]
     },
     "execution_count": 15,
     "metadata": {},
     "output_type": "execute_result"
    }
   ],
   "source": [
    "# R-squared between y_pred and y_test\n",
    "np.corrcoef(y_test, y_pred)"
   ]
  },
  {
   "cell_type": "code",
   "execution_count": 16,
   "metadata": {},
   "outputs": [
    {
     "data": {
      "text/plain": [
       "<AxesSubplot:xlabel='COUNT'>"
      ]
     },
     "execution_count": 16,
     "metadata": {},
     "output_type": "execute_result"
    },
    {
     "data": {
      "image/png": "[encoded data removed]",
      "text/plain": [
       "<Figure size 432x288 with 1 Axes>"
      ]
     },
     "metadata": {
      "needs_background": "light"
     },
     "output_type": "display_data"
    }
   ],
   "source": [
    "# Training data: y_test, y_pred_train\n",
    "y_pred_train = model_chosen.predict(X_train)\n",
    "sns.regplot(x = y_train, y = y_pred_train, color = 'blue')"
   ]
  },
  {
   "cell_type": "code",
   "execution_count": 17,
   "metadata": {},
   "outputs": [
    {
     "data": {
      "text/plain": [
       "array([[1.        , 0.99815275],\n",
       "       [0.99815275, 1.        ]])"
      ]
     },
     "execution_count": 17,
     "metadata": {},
     "output_type": "execute_result"
    }
   ],
   "source": [
    "# R-squared between y_pred and y_pred_train\n",
    "np.corrcoef(y_train, y_pred_train)"
   ]
  },
  {
   "cell_type": "markdown",
   "metadata": {},
   "source": [
    "**<font color='green'>Export the model</font>**"
   ]
  },
  {
   "cell_type": "code",
   "execution_count": 18,
   "metadata": {},
   "outputs": [],
   "source": [
    "# Save the model to the directory for the App\n",
    "with open('./mda_app/gradientboosting.pkl', 'wb') as file:\n",
    "    dill.dump(model_chosen, file) "
   ]
  }
 ],
 "metadata": {
  "kernelspec": {
   "display_name": "Python 3",
   "language": "python",
   "name": "python3"
  },
  "language_info": {
   "codemirror_mode": {
    "name": "ipython",
    "version": 3
   },
   "file_extension": ".py",
   "mimetype": "text/x-python",
   "name": "python",
   "nbconvert_exporter": "python",
   "pygments_lexer": "ipython3",
   "version": "3.9.5"
  },
  "toc": {
   "base_numbering": 1,
   "nav_menu": {},
   "number_sections": true,
   "sideBar": true,
   "skip_h1_title": false,
   "title_cell": "Table of Contents",
   "title_sidebar": "Contents",
   "toc_cell": false,
   "toc_position": {},
   "toc_section_display": true,
   "toc_window_display": false
  }
 },
 "nbformat": 4,
 "nbformat_minor": 4
}
