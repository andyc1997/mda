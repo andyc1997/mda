{
 "cells": [
  {
   "cell_type": "code",
   "execution_count": 1,
   "id": "46443bed",
   "metadata": {},
   "outputs": [
    {
     "name": "stderr",
     "output_type": "stream",
     "text": [
      "C:\\Users\\user\\anaconda3\\envs\\mda\\lib\\site-packages\\gensim\\similarities\\__init__.py:15: UserWarning: The gensim.similarities.levenshtein submodule is disabled, because the optional Levenshtein package <https://pypi.org/project/python-Levenshtein/> is unavailable. Install Levenhstein (e.g. `pip install python-Levenshtein`) to suppress this warning.\n",
      "  warnings.warn(msg)\n"
     ]
    }
   ],
   "source": [
    "import re\n",
    "import string \n",
    "import numpy as np\n",
    "import pandas as pd\n",
    "import seaborn as sns\n",
    "from matplotlib import pyplot as plt\n",
    "\n",
    "from geopy.geocoders import Nominatim\n",
    "import gensim\n",
    "from gensim import corpora\n",
    "from gensim.models import CoherenceModel\n",
    "\n",
    "import nltk\n",
    "from nltk.tokenize import word_tokenize\n",
    "from nltk.corpus import wordnet, stopwords\n",
    "from nltk.stem import WordNetLemmatizer"
   ]
  },
  {
   "cell_type": "code",
   "execution_count": 2,
   "id": "2bae08da",
   "metadata": {},
   "outputs": [
    {
     "name": "stderr",
     "output_type": "stream",
     "text": [
      "[nltk_data] Downloading package punkt to\n",
      "[nltk_data]     C:\\Users\\user\\AppData\\Roaming\\nltk_data...\n",
      "[nltk_data]   Package punkt is already up-to-date!\n",
      "[nltk_data] Downloading package wordnet to\n",
      "[nltk_data]     C:\\Users\\user\\AppData\\Roaming\\nltk_data...\n",
      "[nltk_data]   Package wordnet is already up-to-date!\n",
      "[nltk_data] Downloading package averaged_perceptron_tagger to\n",
      "[nltk_data]     C:\\Users\\user\\AppData\\Roaming\\nltk_data...\n",
      "[nltk_data]   Package averaged_perceptron_tagger is already up-to-\n",
      "[nltk_data]       date!\n",
      "[nltk_data] Downloading package maxent_ne_chunker to\n",
      "[nltk_data]     C:\\Users\\user\\AppData\\Roaming\\nltk_data...\n",
      "[nltk_data]   Package maxent_ne_chunker is already up-to-date!\n",
      "[nltk_data] Downloading package words to\n",
      "[nltk_data]     C:\\Users\\user\\AppData\\Roaming\\nltk_data...\n",
      "[nltk_data]   Package words is already up-to-date!\n",
      "[nltk_data] Downloading package stopwords to\n",
      "[nltk_data]     C:\\Users\\user\\AppData\\Roaming\\nltk_data...\n",
      "[nltk_data]   Package stopwords is already up-to-date!\n"
     ]
    },
    {
     "data": {
      "text/plain": [
       "True"
      ]
     },
     "execution_count": 2,
     "metadata": {},
     "output_type": "execute_result"
    }
   ],
   "source": [
    "# NLTK Resource\n",
    "nltk.download('punkt')\n",
    "nltk.download('wordnet')\n",
    "nltk.download('averaged_perceptron_tagger') # for tagging\n",
    "nltk.download('stopwords') # stopwords"
   ]
  },
  {
   "cell_type": "code",
   "execution_count": 3,
   "id": "76783f39",
   "metadata": {},
   "outputs": [],
   "source": [
    "# Import data\n",
    "data = pd.read_csv('../data/reddit_heatwaves_comment.csv', sep = ';')"
   ]
  },
  {
   "cell_type": "markdown",
   "id": "7d2175b8",
   "metadata": {},
   "source": [
    "**<font color='green'>Text cleaning</font>**"
   ]
  },
  {
   "cell_type": "code",
   "execution_count": 4,
   "id": "4f06739e",
   "metadata": {},
   "outputs": [],
   "source": [
    "# Helper function: Convert NLTK tag to WordNet tag because we're uring WordNet lemmatizer\n",
    "def get_wordnet_pos(tag):\n",
    "    if tag.startswith('J'):\n",
    "        return wordnet.ADJ\n",
    "    \n",
    "    elif tag.startswith('V'):\n",
    "        return wordnet.VERB\n",
    "\n",
    "    elif tag.startswith('N'):\n",
    "        return wordnet.NOUN\n",
    "    \n",
    "    elif tag.startswith('R'):\n",
    "        return wordnet.ADV\n",
    "\n",
    "    else:\n",
    "        return None"
   ]
  },
  {
   "cell_type": "markdown",
   "id": "8b375658",
   "metadata": {},
   "source": [
    "<font color='green'>In reddit, it is very common to see comments containing stop words which are not included in *NLTK*, *for example: dude, bro, something, yeah...* Reasonable to add some extra stop words.</font>"
   ]
  },
  {
   "cell_type": "code",
   "execution_count": 5,
   "id": "122bf2a5",
   "metadata": {},
   "outputs": [],
   "source": [
    "# Manually designed stop words\n",
    "stop_words_manual = ['something', 'dude', 'one', 'people', 'time', 'month', 'year', 'day', 'yeah', 'right', 'thing', \n",
    "                     'bro', 'point', 'comment', 'someone']\n",
    "stop_words = set(stopwords.words('english') + stop_words_manual)"
   ]
  },
  {
   "cell_type": "code",
   "execution_count": 6,
   "id": "cf7e7ab3",
   "metadata": {},
   "outputs": [],
   "source": [
    "# Remove unusual symbols, emoji, hyperlinks, and do lemmatization\n",
    "class comment_cleaner():\n",
    "    def __init__(self, data):\n",
    "        self.data = data\n",
    "        self.wordnet_lemmatizer = WordNetLemmatizer()\n",
    "        \n",
    "    def preprocessing(self, comment):\n",
    "        comment = comment.lower()\n",
    "        comment = re.sub(r'https*\\S+', ' ', comment) # Remove hyperlink\n",
    "        comment = re.sub(r'@\\S+', ' ', comment) # Remove tagged username\n",
    "        comment = re.sub(r'#\\S+', ' ', comment) # Remove tagged word\n",
    "        comment = re.sub(r'&\\S+', ' ', comment) # Remove emoji\n",
    "        comment = re.sub(r'’', '\\'', comment) # Proper apostrophe\n",
    "        comment = re.sub(r'°', '', comment) # Temperature \"degree\" notation\n",
    "        comment = re.sub(r'//', '', comment) # Slash\n",
    "        comment = re.sub(r'[\\n]', ' ', comment) # Escape\n",
    "        comment = re.sub('[%s]' % re.escape(string.punctuation.replace('\\'', '')), '', comment) # Punctuation\n",
    "        comment = comment.encode('utf-8', 'ignore').decode() # Uniform encoding\n",
    "        return comment\n",
    "    \n",
    "    def lemmatization(self, comment):\n",
    "        words = []\n",
    "        tagging_nltk = nltk.pos_tag(word_tokenize(comment)) # pos tagging using NLTK\n",
    "        tagging_nltk = [*map(lambda s: (s[0], get_wordnet_pos(s[1])), tagging_nltk)]\n",
    "        tagging_nltk = [s for s in tagging_nltk if s[0] not in stop_words]\n",
    "        \n",
    "        # Since we are interested in the trend, we focus on topic modeling with noun and adjective\n",
    "        for word, tag in tagging_nltk:\n",
    "            if tag in [wordnet.NOUN ,wordnet.ADJ]:\n",
    "                words.append(self.wordnet_lemmatizer.lemmatize(word, pos = tag))\n",
    "        return ' '.join(words)\n",
    "    \n",
    "    def clean(self):\n",
    "        self.data['comment_cleaned'] = self.data['comment'].apply(lambda s: self.lemmatization(self.preprocessing(s)))\n",
    "        return self.data"
   ]
  },
  {
   "cell_type": "code",
   "execution_count": 7,
   "id": "2bdb5ef4",
   "metadata": {},
   "outputs": [],
   "source": [
    "# Clean data\n",
    "Cleaner = comment_cleaner(data)\n",
    "data = Cleaner.clean()"
   ]
  },
  {
   "cell_type": "markdown",
   "id": "5c8594f0",
   "metadata": {},
   "source": [
    "**<font color='green'>What countries/cities are the most mentioned?</font>**"
   ]
  },
  {
   "cell_type": "markdown",
   "id": "f3ba33d8",
   "metadata": {},
   "source": [
    "<font color='green'> **Code Citation** </font>\n",
    "\n",
    "<font color='green'> Cities shall not be omitted but there is **no** standard way to extract city names from a text. Entity recognition methods  provided by NLTK and Spacy are not robust to certain names and lower cases. We rely on the solution provided in the following post in StackOverflow to resolve the problem.</font>\n",
    "\n",
    "https://stackoverflow.com/questions/59956670/parsing-city-of-origin-destination-city-from-a-string"
   ]
  },
  {
   "cell_type": "code",
   "execution_count": 8,
   "id": "f39e01a0",
   "metadata": {
    "scrolled": false
   },
   "outputs": [],
   "source": [
    "# From StackOverflow\n",
    "import requests\n",
    "import json\n",
    "\n",
    "# First data source\n",
    "cities_url = 'https://pkgstore.datahub.io/core/world-cities/world-cities_json/data/5b3dd46ad10990bca47b04b4739a02ba/world-cities_json.json'\n",
    "cities_json = json.loads(requests.get(cities_url).content.decode('utf8'))\n",
    "\n",
    "countries1 = set([city['country'] for city in cities_json])\n",
    "cities1 = set([city['name'] for city in cities_json])"
   ]
  },
  {
   "cell_type": "code",
   "execution_count": 9,
   "id": "25c6b9c6",
   "metadata": {},
   "outputs": [],
   "source": [
    "# From StackOverflow\n",
    "from flashtext import KeywordProcessor\n",
    "\n",
    "keyword_processor = KeywordProcessor(case_sensitive=False)\n",
    "keyword_processor.add_keywords_from_list(sorted(countries1))\n",
    "keyword_processor.add_keywords_from_list(sorted(cities1))"
   ]
  },
  {
   "cell_type": "code",
   "execution_count": 10,
   "id": "e992b0c6",
   "metadata": {},
   "outputs": [],
   "source": [
    "# Store locations and their frequency in a dictionary\n",
    "locations = dict()\n",
    "for comment in data['comment_cleaned']:\n",
    "    list_temp = keyword_processor.extract_keywords(comment)\n",
    "    if len(list_temp) > 0:\n",
    "        for location in list_temp:\n",
    "            if location not in locations.keys():\n",
    "                locations[location] = 1\n",
    "            else:\n",
    "                locations[location] += 1"
   ]
  },
  {
   "cell_type": "code",
   "execution_count": 11,
   "id": "456b0990",
   "metadata": {
    "scrolled": false
   },
   "outputs": [],
   "source": [
    "# Manually filter non-related locations\n",
    "remove_keys = ['Holiday', 'Tire', 'Normal', 'Central', 'Much', 'Manage', 'Man', 'Buy', 'Bath', 'Best', 'Nice', 'Reading', 'Un', 'Fountain',\n",
    "              'Pop', 'Born', 'Union', 'Wedding', 'Bay', 'Young', 'Asia', 'Sake', 'March', 'Green', 'Liberal', 'Van', 'Salt', 'Mobile', \n",
    "               'Retreat', 'Bear', 'Opportunity', 'Police', 'Humble', 'Bra', 'Sale', 'University', 'Surprise', 'Superior', 'Pace', 'Bar', 'Mon', \n",
    "               'Terrace', 'Auch', 'Peer', 'Gay', 'Vite', 'Seaside', 'Split', 'Male', 'Mach', 'Gap', 'Prospect', 'Alot', 'Date', 'Sunset', \n",
    "               'Paradise', 'Boom', 'Reservoir', 'Alliance', 'Eagle', 'Wer', 'Ho', 'Sur']\n",
    "for key in remove_keys:\n",
    "    del locations[key]"
   ]
  },
  {
   "cell_type": "code",
   "execution_count": 12,
   "id": "911e877d",
   "metadata": {
    "scrolled": false
   },
   "outputs": [],
   "source": [
    "# Convert city to country\n",
    "geolocator = Nominatim(user_agent = 'mda')\n",
    "countries = dict()\n",
    "\n",
    "for city in list(locations.keys()):\n",
    "    country = geolocator.geocode(city, language = 'en')[0].split(',')[-1].strip()\n",
    "    countries[city] = country"
   ]
  },
  {
   "cell_type": "code",
   "execution_count": 13,
   "id": "d7558bfc",
   "metadata": {
    "scrolled": false
   },
   "outputs": [],
   "source": [
    "# Count country frequency, use 'countries' as a key mapper \n",
    "countries_freq = dict()\n",
    "for key in locations.keys():\n",
    "    if countries[key] not in countries_freq.keys():\n",
    "        countries_freq[countries[key]] = locations[key]\n",
    "    else:\n",
    "        countries_freq[countries[key]] += locations[key]"
   ]
  },
  {
   "cell_type": "code",
   "execution_count": 14,
   "id": "b0a46a7e",
   "metadata": {},
   "outputs": [],
   "source": [
    "# Convert the results to a sorted series\n",
    "countries_freq = pd.Series(countries_freq).sort_values(ascending = False)"
   ]
  },
  {
   "cell_type": "code",
   "execution_count": 15,
   "id": "a386f711",
   "metadata": {},
   "outputs": [],
   "source": [
    "# List European countries with frequency > 10\n",
    "euro_list = ['France', 'Germany', 'Spain', 'Italy', 'United Kingdom', 'Sweden', 'Netherlands', \n",
    "             'Portugal', 'Ireland', 'Russia', 'Norway', 'Belgium', 'Poland', 'Switzerland', \n",
    "             'Denmark', 'Greece', 'Finland']"
   ]
  },
  {
   "cell_type": "code",
   "execution_count": 16,
   "id": "17f5b92b",
   "metadata": {},
   "outputs": [
    {
     "data": {
      "image/png": "[encoded data removed]",
      "text/plain": [
       "<Figure size 432x288 with 1 Axes>"
      ]
     },
     "metadata": {
      "needs_background": "light"
     },
     "output_type": "display_data"
    }
   ],
   "source": [
    "# Bar plot of the frequencies\n",
    "data_temp = pd.DataFrame({'Count': countries_freq[euro_list]}).reset_index()\n",
    "ax = sns.barplot(x = 'Count', y = 'index', data = data_temp, palette = 'Greens')\n",
    "ax.set(xlabel = 'Frequency', ylabel = 'Countries', title = 'Mostly mentioned countries in the post');"
   ]
  },
  {
   "cell_type": "markdown",
   "id": "eaac47b1",
   "metadata": {},
   "source": [
    "**<font color='green'>What are the topic for the post?</font>**\n",
    "\n",
    "- <font color='green'>The reason for using *gensim* instead of *scikit-learn* is because *gensim* provides the coherence scores which allows us to tune the number of topics</font>"
   ]
  },
  {
   "cell_type": "code",
   "execution_count": 17,
   "id": "49fb22f4",
   "metadata": {},
   "outputs": [],
   "source": [
    "# Create tokens for gensim models\n",
    "def tokenize_comments(comments):\n",
    "    comments_tonkenized = []\n",
    "\n",
    "    for comment in comments:\n",
    "        sentence = []\n",
    "        \n",
    "        for word in word_tokenize(comment):\n",
    "            if word not in stop_words: # There may be stop words after lemmatization\n",
    "                sentence.append(word) \n",
    "        comments_tonkenized.append(sentence)\n",
    "        \n",
    "    return comments_tonkenized"
   ]
  },
  {
   "cell_type": "code",
   "execution_count": 18,
   "id": "3ddd993a",
   "metadata": {},
   "outputs": [],
   "source": [
    "# Use cleaned comments to create tokens\n",
    "comments_tonkenized = tokenize_comments(data['comment_cleaned'])\n",
    "\n",
    "# Create dictionary and corpus - (token_id, token_count)\n",
    "dictionary = corpora.Dictionary(comments_tonkenized)\n",
    "dictionary.filter_extremes(no_above = 0.8) # Avoid common token\n",
    "corpus = [dictionary.doc2bow(token) for token in comments_tonkenized]"
   ]
  },
  {
   "cell_type": "code",
   "execution_count": 26,
   "id": "8fc3f753",
   "metadata": {},
   "outputs": [],
   "source": [
    "# Train LDA models, and assess the performance using coherence scores\n",
    "# Seed is needed because the LDA model changes the results when we rerun the script\n",
    "SEED = 20210526\n",
    "coherence_scores = []\n",
    "\n",
    "for n_topics in np.arange(1, 15):\n",
    "    ldamodel = gensim.models.ldamodel.LdaModel(corpus, num_topics = n_topics, id2word = dictionary, \n",
    "                                               iterations = 1000, random_state = SEED)\n",
    "    ldamodel_coherence = CoherenceModel(model = ldamodel, texts = comments_tonkenized, dictionary = dictionary, \n",
    "                                        coherence ='c_v')\n",
    "    coherence_scores.append(ldamodel_coherence.get_coherence())"
   ]
  },
  {
   "cell_type": "markdown",
   "id": "b4950403",
   "metadata": {},
   "source": [
    "**<font color='green'>Based on the coherence score, we should use 8 topics.</font>**"
   ]
  },
  {
   "cell_type": "code",
   "execution_count": 28,
   "id": "40a553c6",
   "metadata": {},
   "outputs": [
    {
     "data": {
      "text/plain": [
       "Text(0.5, 1.0, 'The performance of LDA model')"
      ]
     },
     "execution_count": 28,
     "metadata": {},
     "output_type": "execute_result"
    },
    {
     "data": {
      "image/png": "[encoded data removed]",
      "text/plain": [
       "<Figure size 432x288 with 1 Axes>"
      ]
     },
     "metadata": {
      "needs_background": "light"
     },
     "output_type": "display_data"
    }
   ],
   "source": [
    "# Highest coherence_scores when number of topics is chosen to be 4\n",
    "plt.plot(np.arange(1, 15), coherence_scores, 'r--')\n",
    "plt.xlabel('Number of Topics')\n",
    "plt.ylabel('Coherence Scores')\n",
    "plt.title('The performance of LDA model')"
   ]
  },
  {
   "cell_type": "code",
   "execution_count": 29,
   "id": "2d1ff34c",
   "metadata": {},
   "outputs": [],
   "source": [
    "# Chosen model\n",
    "ldamodel = gensim.models.ldamodel.LdaModel(corpus, num_topics = 8, id2word = dictionary, \n",
    "                                           iterations = 1000, random_state = SEED)"
   ]
  },
  {
   "cell_type": "markdown",
   "id": "6d94a838",
   "metadata": {},
   "source": [
    "**<font color='green'>What are the interpretations of the topic?</font>**\n",
    "\n",
    "- <font color='green'>*Topic 0*: It is related to setting air conditioning units in summer, good, and inefficient energy.</font>\n",
    "- <font color='green'>*Topic 1*: It is related to opinions on the patterns of the climate change in the world and human.</font>\n",
    "- <font color='green'>*Topic 2*: It is related to good behavior, group of people under heatwaves and money.</font>\n",
    "- <font color='green'>*Topic 3*: It is related to air conditioning/HVAC in the summer for house and places, bad, and old people.</font>\n",
    "- <font color='green'>*Topic 4*: It is related to window, fan in the summer, want cooler and anger, outside is hot.</font>\n",
    "- <font color='green'>*Topic 5*: It is related to disease in city and bus, need action, in europe.</font>\n",
    "- <font color='green'>*Topic 6*: It is related to high temperature and heat in house, brain problem.</font>\n",
    "- <font color='green'>*Topic 7*: It is related to larger and cheap system and solution with air conditioning units and window.</font>"
   ]
  },
  {
   "cell_type": "code",
   "execution_count": 31,
   "id": "64a35ba8",
   "metadata": {
    "scrolled": false
   },
   "outputs": [
    {
     "name": "stdout",
     "output_type": "stream",
     "text": [
      "(0, '0.019*\"ac\" + 0.016*\"unit\" + 0.014*\"summer\" + 0.014*\"good\" + 0.013*\"energy\" + 0.011*\"lot\" + 0.010*\"inefficient\" + 0.010*\"heat\" + 0.010*\"system\" + 0.010*\"idea\"')\n",
      "(1, '0.031*\"climate\" + 0.028*\"change\" + 0.017*\"world\" + 0.015*\"human\" + 0.014*\"old\" + 0.014*\"pattern\" + 0.014*\"sense\" + 0.013*\"way\" + 0.013*\"wrong\" + 0.011*\"humidity\"')\n",
      "(2, '0.022*\"behavior\" + 0.020*\"good\" + 0.019*\"group\" + 0.014*\"heat\" + 0.013*\"money\" + 0.012*\"way\" + 0.012*\"humidity\" + 0.011*\"response\" + 0.011*\"smart\" + 0.011*\"wrong\"')\n",
      "(3, '0.026*\"summer\" + 0.024*\"ac\" + 0.021*\"house\" + 0.017*\"bad\" + 0.015*\"old\" + 0.014*\"heat\" + 0.014*\"place\" + 0.013*\"hot\" + 0.013*\"hvac\" + 0.011*\"week\"')\n",
      "(4, '0.047*\"window\" + 0.017*\"heat\" + 0.016*\"air\" + 0.013*\"unit\" + 0.013*\"summer\" + 0.012*\"fan\" + 0.011*\"anger\" + 0.011*\"outside\" + 0.011*\"house\" + 0.011*\"cooler\"')\n",
      "(5, '0.035*\"disease\" + 0.016*\"bus\" + 0.016*\"city\" + 0.015*\"lol\" + 0.015*\"action\" + 0.014*\"topic\" + 0.014*\"place\" + 0.013*\"hot\" + 0.012*\"thanks\" + 0.012*\"europe\"')\n",
      "(6, '0.021*\"house\" + 0.017*\"temperature\" + 0.016*\"heat\" + 0.015*\"high\" + 0.012*\"problem\" + 0.011*\"brain\" + 0.011*\"world\" + 0.011*\"others\" + 0.011*\"ac\" + 0.010*\"air\"')\n",
      "(7, '0.043*\"ac\" + 0.034*\"unit\" + 0.033*\"window\" + 0.016*\"solution\" + 0.013*\"system\" + 0.012*\"large\" + 0.011*\"problem\" + 0.010*\"lot\" + 0.010*\"apartment\" + 0.010*\"cheap\"')\n"
     ]
    }
   ],
   "source": [
    "# Print out the model\n",
    "topics = ldamodel.print_topics(num_words = 10)\n",
    "for topic in topics:\n",
    "    print(topic)"
   ]
  }
 ],
 "metadata": {
  "kernelspec": {
   "display_name": "Python 3",
   "language": "python",
   "name": "python3"
  },
  "language_info": {
   "codemirror_mode": {
    "name": "ipython",
    "version": 3
   },
   "file_extension": ".py",
   "mimetype": "text/x-python",
   "name": "python",
   "nbconvert_exporter": "python",
   "pygments_lexer": "ipython3",
   "version": "3.9.5"
  },
  "toc": {
   "base_numbering": 1,
   "nav_menu": {
    "height": "116px",
    "width": "291.2px"
   },
   "number_sections": true,
   "sideBar": true,
   "skip_h1_title": false,
   "title_cell": "Table of Contents",
   "title_sidebar": "Contents",
   "toc_cell": false,
   "toc_position": {},
   "toc_section_display": true,
   "toc_window_display": false
  }
 },
 "nbformat": 4,
 "nbformat_minor": 5
}
