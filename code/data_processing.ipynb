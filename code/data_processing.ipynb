{
 "cells": [
  {
   "cell_type": "code",
   "execution_count": 1,
   "metadata": {},
   "outputs": [],
   "source": [
    "import numpy as np\n",
    "import pandas as pd\n",
    "import seaborn as sns\n",
    "import functools\n",
    "\n",
    "from subset_helper import cleaner_climate"
   ]
  },
  {
   "cell_type": "markdown",
   "metadata": {},
   "source": [
    "**<font color='blue'> Notebook description</font>**\n",
    "\n",
    "- <font color='blue'>This script cleans and featurizes the raw meteorological data of different cities in Belgium, taking the reference period into account. Finally, the mortality data and the meteorological data are combined into a single data file for predictive modeling. </font>\n",
    "\n",
    "- <font color='blue'>This script also featurizes the raw meteorological data from different European countries. As the data cleaning procedures are similar, functions are wrapped in the class *subset_helper*.</font>"
   ]
  },
  {
   "cell_type": "code",
   "execution_count": 2,
   "metadata": {},
   "outputs": [],
   "source": [
    "# Import raw data - Belgium mortality \n",
    "mortality = pd.read_excel('../data/cause of death.xlsx') # Monthly mortality data with causes from Stabel\n",
    "reference_dist = pd.read_csv('../data/reference_dist_1983_to_2008.csv') # 1983 Jan 01 - 2008 Dec 31 as references"
   ]
  },
  {
   "cell_type": "code",
   "execution_count": 3,
   "metadata": {},
   "outputs": [],
   "source": [
    "# First 16 rows are text / sentences\n",
    "ROW_SKIP = 16\n",
    "climate_brussels = pd.read_csv('../data/Daily_20090101_20201231_brussels.csv', skiprows = ROW_SKIP)\n",
    "climate_dinant = pd.read_csv('../data/Daily_20090101_20201231_dinant.csv',  skiprows = ROW_SKIP)\n",
    "climate_antwerp = pd.read_csv('../data/Daily_20090101_20201231_antwerp.csv', skiprows = ROW_SKIP)"
   ]
  },
  {
   "cell_type": "code",
   "execution_count": 4,
   "metadata": {},
   "outputs": [],
   "source": [
    "# Import raw data - Multiple countries\n",
    "reference_dist_multicountries = pd.read_csv('../data/reference_europe_1983_to_2008.csv') # 1983 Jan 01 - 2008 Dec 31 as references"
   ]
  },
  {
   "cell_type": "code",
   "execution_count": 5,
   "metadata": {},
   "outputs": [],
   "source": [
    "ROW_SKIP = 11\n",
    "def read_file(filename, country):\n",
    "    data = pd.read_csv('../data/multi_countries/' + filename + '.csv', skiprows = ROW_SKIP)\n",
    "    data['COUNTRY'] = country \n",
    "    return data"
   ]
  },
  {
   "cell_type": "code",
   "execution_count": 6,
   "metadata": {},
   "outputs": [],
   "source": [
    "filenames = ['Belgium', 'France', 'Greece', 'Russia', 'Spain', 'UK', 'Romania']\n",
    "df_countries = []\n",
    "\n",
    "for filename in filenames:\n",
    "    data = read_file(filename, filename)\n",
    "    df_countries.append(data)"
   ]
  },
  {
   "cell_type": "code",
   "execution_count": 7,
   "metadata": {},
   "outputs": [
    {
     "data": {
      "text/plain": [
       "Index(['REGION', 'MONTH', 'YEAR', 'AGE-GROUP', 'SEX', 'COD', 'COUNT'], dtype='object')"
      ]
     },
     "execution_count": 7,
     "metadata": {},
     "output_type": "execute_result"
    }
   ],
   "source": [
    "# Check column names\n",
    "mortality.columns"
   ]
  },
  {
   "cell_type": "code",
   "execution_count": 8,
   "metadata": {},
   "outputs": [],
   "source": [
    "# Add region code\n",
    "region_name = 'REGION'\n",
    "climate_brussels[region_name] = 4000\n",
    "climate_antwerp[region_name] = 2000\n",
    "climate_dinant[region_name] = 3000"
   ]
  },
  {
   "cell_type": "code",
   "execution_count": 9,
   "metadata": {},
   "outputs": [],
   "source": [
    "# Concatenate dataframes from cities\n",
    "df_concat = pd.DataFrame().append([climate_brussels, climate_antwerp, climate_dinant])\n",
    "\n",
    "# Concatenate dataframes from countries\n",
    "df_countries = pd.DataFrame().append(df_countries)"
   ]
  },
  {
   "cell_type": "code",
   "execution_count": 10,
   "metadata": {},
   "outputs": [],
   "source": [
    "# Rename date columns\n",
    "date_dict = {'YEAR': 'YEAR', 'MO': 'MONTH', 'DY': 'DAY'}\n",
    "df_concat.rename(columns = date_dict, inplace = True)\n",
    "df_countries.rename(columns = date_dict, inplace = True)"
   ]
  },
  {
   "cell_type": "code",
   "execution_count": 11,
   "metadata": {},
   "outputs": [],
   "source": [
    "# Create features for multi-countries case\n",
    "class cleaner_climate_countries(cleaner_climate):  \n",
    "\n",
    "    def monthly_stat(self):\n",
    "        df_results = pd.DataFrame()\n",
    "        df_groupby = self.climate_city.groupby(self.key1)\n",
    "        # Do some features transformation here, add extra columns if needed\n",
    "        df_results['TEMP_MEAN'] = df_groupby['T2M_MAX'].mean() # Mean of daily temperature\n",
    "        return df_results"
   ]
  },
  {
   "cell_type": "code",
   "execution_count": 12,
   "metadata": {},
   "outputs": [],
   "source": [
    "# Create features\n",
    "Cleaner = cleaner_climate(df_concat, reference_dist, key = ['REGION', 'YEAR', 'MONTH'])\n",
    "climate = Cleaner.featurize()\n",
    "\n",
    "# Create features\n",
    "Cleaner = cleaner_climate_countries(df_countries, reference_dist_multicountries, key = ['COUNTRY', 'YEAR', 'MONTH'])\n",
    "climate_countries= Cleaner.featurize()"
   ]
  },
  {
   "cell_type": "code",
   "execution_count": 13,
   "metadata": {},
   "outputs": [],
   "source": [
    "# Merge with the mortality dataset\n",
    "mortality_merged = mortality.merge(climate, how = 'left', on = ['REGION', 'YEAR', 'MONTH'])"
   ]
  },
  {
   "cell_type": "code",
   "execution_count": 14,
   "metadata": {},
   "outputs": [],
   "source": [
    "# Export the mortality dataset\n",
    "mortality_merged.to_csv('../data/mortality_merged.csv', index = False)\n",
    "\n",
    "# Export the european countries dataset\n",
    "climate_countries.to_csv('../data/europe_heatdays.csv', index = False) # Export to data folder for AWS S3 bucket\n",
    "climate_countries.to_csv('./mda_app/europe_heatdays.csv', index = False) # Export to the directory for the App"
   ]
  }
 ],
 "metadata": {
  "kernelspec": {
   "display_name": "Python 3",
   "language": "python",
   "name": "python3"
  },
  "language_info": {
   "codemirror_mode": {
    "name": "ipython",
    "version": 3
   },
   "file_extension": ".py",
   "mimetype": "text/x-python",
   "name": "python",
   "nbconvert_exporter": "python",
   "pygments_lexer": "ipython3",
   "version": "3.9.5"
  },
  "toc": {
   "base_numbering": 1,
   "nav_menu": {},
   "number_sections": true,
   "sideBar": true,
   "skip_h1_title": false,
   "title_cell": "Table of Contents",
   "title_sidebar": "Contents",
   "toc_cell": false,
   "toc_position": {},
   "toc_section_display": true,
   "toc_window_display": false
  }
 },
 "nbformat": 4,
 "nbformat_minor": 4
}
