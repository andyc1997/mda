{
 "cells": [
  {
   "cell_type": "code",
   "execution_count": 1,
   "metadata": {},
   "outputs": [],
   "source": [
    "import numpy as np\n",
    "import pandas as pd\n",
    "from matplotlib import pyplot as plt\n",
    "import seaborn as sns\n",
    "\n",
    "from sklearn.model_selection import RandomizedSearchCV, train_test_split\n",
    "from sklearn.metrics import mean_squared_error\n",
    "from sklearn.pipeline import Pipeline\n",
    "from sklearn.compose import ColumnTransformer\n",
    "from sklearn.preprocessing import StandardScaler, RobustScaler, OneHotEncoder\n",
    "from sklearn.ensemble import RandomForestRegressor\n",
    "\n",
    "from subset_helper import subset_helper"
   ]
  },
  {
   "cell_type": "markdown",
   "metadata": {},
   "source": [
    "**<font color='blue'>Notebook description</font>**\n",
    "\n",
    "<font color='blue'>We build a predictive model for the number of death using random forest, and assess its performance.</font>"
   ]
  },
  {
   "cell_type": "code",
   "execution_count": 2,
   "metadata": {},
   "outputs": [],
   "source": [
    "# import data\n",
    "mortality = pd.read_csv('../data/mortality_merged.csv')"
   ]
  },
  {
   "cell_type": "markdown",
   "metadata": {},
   "source": [
    "**<font color='green'>Preprocessing steps</font>**"
   ]
  },
  {
   "cell_type": "code",
   "execution_count": 3,
   "metadata": {},
   "outputs": [],
   "source": [
    "mortality = subset_helper(mortality).subset()"
   ]
  },
  {
   "cell_type": "code",
   "execution_count": 4,
   "metadata": {},
   "outputs": [],
   "source": [
    "# Train-test split\n",
    "TEST_SIZE = 0.2\n",
    "SEED = 467051528\n",
    "X_train, X_test, y_train, y_test = train_test_split(mortality.drop('COUNT', axis = 1), \n",
    "                                                    mortality['COUNT'], \n",
    "                                                    test_size = TEST_SIZE,\n",
    "                                                    random_state = SEED,\n",
    "                                                    shuffle = True)"
   ]
  },
  {
   "cell_type": "code",
   "execution_count": 5,
   "metadata": {},
   "outputs": [],
   "source": [
    "# Preprocessing steps\n",
    "numeric_transformer = Pipeline(steps = [\n",
    "    ('scaler', StandardScaler())\n",
    "])\n",
    "categorical_transformer = OneHotEncoder(drop = 'first')\n",
    "\n",
    "categorical_features = ['REGION', 'AGE-GROUP', 'SEX', 'COD']\n",
    "numeric_features = X_train.columns.to_list()[6:]\n",
    "\n",
    "preprocessor = ColumnTransformer(\n",
    "    transformers = [\n",
    "        ('drop_columns', 'drop', ['YEAR', 'MONTH']),\n",
    "        ('num', numeric_transformer, numeric_features),\n",
    "        ('cat', categorical_transformer, categorical_features)\n",
    "    ])"
   ]
  },
  {
   "cell_type": "markdown",
   "metadata": {},
   "source": [
    "**<font color='green'>Hyperparameters tuning</font>**"
   ]
  },
  {
   "cell_type": "code",
   "execution_count": 6,
   "metadata": {},
   "outputs": [],
   "source": [
    "# Parameter grids\n",
    "n = np.arange(1, 16)\n",
    "max_f = np.arange(5, 10)\n",
    "params = {'preprocessing__num' : [StandardScaler(), RobustScaler()], \n",
    "         'regressor__max_features': max_f}"
   ]
  },
  {
   "cell_type": "code",
   "execution_count": 7,
   "metadata": {},
   "outputs": [],
   "source": [
    "# Model\n",
    "SEED_RF = 20210525\n",
    "model = Pipeline(steps = [\n",
    "    ('preprocessing', preprocessor),\n",
    "    ('regressor', RandomForestRegressor(n_estimators = 300, random_state = SEED_RF))\n",
    "])"
   ]
  },
  {
   "cell_type": "code",
   "execution_count": 8,
   "metadata": {},
   "outputs": [
    {
     "data": {
      "text/plain": [
       "RandomizedSearchCV(estimator=Pipeline(steps=[('preprocessing',\n",
       "                                              ColumnTransformer(transformers=[('drop_columns',\n",
       "                                                                               'drop',\n",
       "                                                                               ['YEAR',\n",
       "                                                                                'MONTH']),\n",
       "                                                                              ('num',\n",
       "                                                                               Pipeline(steps=[('scaler',\n",
       "                                                                                                StandardScaler())]),\n",
       "                                                                               ['TEMP_MEAN',\n",
       "                                                                                'TEMP_RNG',\n",
       "                                                                                'WS50M_MEAN',\n",
       "                                                                                'PRECTOT_MEAN',\n",
       "                                                                                'RH2M_MEAN',\n",
       "                                                                                'HEAT_DAYS']),\n",
       "                                                                              ('cat',\n",
       "                                                                               OneHotEncoder(drop='first'),\n",
       "                                                                               ['REGION',\n",
       "                                                                                'AGE-GROUP',\n",
       "                                                                                'SEX',\n",
       "                                                                                'COD'])])),\n",
       "                                             ('regressor',\n",
       "                                              RandomForestRegressor(n_estimators=300,\n",
       "                                                                    random_state=20210525))]),\n",
       "                   param_distributions={'preprocessing__num': [StandardScaler(),\n",
       "                                                               RobustScaler()],\n",
       "                                        'regressor__max_features': array([5, 6, 7, 8, 9])},\n",
       "                   random_state=467051528)"
      ]
     },
     "execution_count": 8,
     "metadata": {},
     "output_type": "execute_result"
    }
   ],
   "source": [
    "# Grid search\n",
    "search = RandomizedSearchCV(model, \n",
    "                            param_distributions = params, \n",
    "                            random_state = SEED)\n",
    "search.fit(X_train, y_train)"
   ]
  },
  {
   "cell_type": "code",
   "execution_count": 9,
   "metadata": {},
   "outputs": [
    {
     "data": {
      "text/html": [
       "<div>\n",
       "<style scoped>\n",
       "    .dataframe tbody tr th:only-of-type {\n",
       "        vertical-align: middle;\n",
       "    }\n",
       "\n",
       "    .dataframe tbody tr th {\n",
       "        vertical-align: top;\n",
       "    }\n",
       "\n",
       "    .dataframe thead th {\n",
       "        text-align: right;\n",
       "    }\n",
       "</style>\n",
       "<table border=\"1\" class=\"dataframe\">\n",
       "  <thead>\n",
       "    <tr style=\"text-align: right;\">\n",
       "      <th></th>\n",
       "      <th>mean_fit_time</th>\n",
       "      <th>std_fit_time</th>\n",
       "      <th>mean_score_time</th>\n",
       "      <th>std_score_time</th>\n",
       "      <th>param_regressor__max_features</th>\n",
       "      <th>param_preprocessing__num</th>\n",
       "      <th>params</th>\n",
       "      <th>split0_test_score</th>\n",
       "      <th>split1_test_score</th>\n",
       "      <th>split2_test_score</th>\n",
       "      <th>split3_test_score</th>\n",
       "      <th>split4_test_score</th>\n",
       "      <th>mean_test_score</th>\n",
       "      <th>std_test_score</th>\n",
       "      <th>rank_test_score</th>\n",
       "    </tr>\n",
       "  </thead>\n",
       "  <tbody>\n",
       "    <tr>\n",
       "      <th>0</th>\n",
       "      <td>0.628618</td>\n",
       "      <td>0.003068</td>\n",
       "      <td>0.032196</td>\n",
       "      <td>0.000196</td>\n",
       "      <td>5</td>\n",
       "      <td>StandardScaler()</td>\n",
       "      <td>{'regressor__max_features': 5, 'preprocessing_...</td>\n",
       "      <td>0.938281</td>\n",
       "      <td>0.957287</td>\n",
       "      <td>0.955427</td>\n",
       "      <td>0.945367</td>\n",
       "      <td>0.939471</td>\n",
       "      <td>0.947167</td>\n",
       "      <td>0.007900</td>\n",
       "      <td>9</td>\n",
       "    </tr>\n",
       "    <tr>\n",
       "      <th>1</th>\n",
       "      <td>0.677443</td>\n",
       "      <td>0.002907</td>\n",
       "      <td>0.031427</td>\n",
       "      <td>0.000940</td>\n",
       "      <td>6</td>\n",
       "      <td>StandardScaler()</td>\n",
       "      <td>{'regressor__max_features': 6, 'preprocessing_...</td>\n",
       "      <td>0.958123</td>\n",
       "      <td>0.970866</td>\n",
       "      <td>0.967425</td>\n",
       "      <td>0.959189</td>\n",
       "      <td>0.963235</td>\n",
       "      <td>0.963768</td>\n",
       "      <td>0.004835</td>\n",
       "      <td>8</td>\n",
       "    </tr>\n",
       "    <tr>\n",
       "      <th>2</th>\n",
       "      <td>0.720755</td>\n",
       "      <td>0.002876</td>\n",
       "      <td>0.030061</td>\n",
       "      <td>0.001796</td>\n",
       "      <td>7</td>\n",
       "      <td>StandardScaler()</td>\n",
       "      <td>{'regressor__max_features': 7, 'preprocessing_...</td>\n",
       "      <td>0.968380</td>\n",
       "      <td>0.975616</td>\n",
       "      <td>0.977590</td>\n",
       "      <td>0.968567</td>\n",
       "      <td>0.973372</td>\n",
       "      <td>0.972705</td>\n",
       "      <td>0.003704</td>\n",
       "      <td>5</td>\n",
       "    </tr>\n",
       "    <tr>\n",
       "      <th>3</th>\n",
       "      <td>0.766813</td>\n",
       "      <td>0.002175</td>\n",
       "      <td>0.031351</td>\n",
       "      <td>0.001979</td>\n",
       "      <td>8</td>\n",
       "      <td>StandardScaler()</td>\n",
       "      <td>{'regressor__max_features': 8, 'preprocessing_...</td>\n",
       "      <td>0.971521</td>\n",
       "      <td>0.978041</td>\n",
       "      <td>0.980980</td>\n",
       "      <td>0.975260</td>\n",
       "      <td>0.979593</td>\n",
       "      <td>0.977079</td>\n",
       "      <td>0.003366</td>\n",
       "      <td>4</td>\n",
       "    </tr>\n",
       "    <tr>\n",
       "      <th>4</th>\n",
       "      <td>0.824638</td>\n",
       "      <td>0.016219</td>\n",
       "      <td>0.031037</td>\n",
       "      <td>0.001774</td>\n",
       "      <td>9</td>\n",
       "      <td>StandardScaler()</td>\n",
       "      <td>{'regressor__max_features': 9, 'preprocessing_...</td>\n",
       "      <td>0.975453</td>\n",
       "      <td>0.979125</td>\n",
       "      <td>0.982926</td>\n",
       "      <td>0.976068</td>\n",
       "      <td>0.983912</td>\n",
       "      <td>0.979497</td>\n",
       "      <td>0.003450</td>\n",
       "      <td>2</td>\n",
       "    </tr>\n",
       "    <tr>\n",
       "      <th>5</th>\n",
       "      <td>0.628294</td>\n",
       "      <td>0.002613</td>\n",
       "      <td>0.031636</td>\n",
       "      <td>0.001886</td>\n",
       "      <td>5</td>\n",
       "      <td>RobustScaler()</td>\n",
       "      <td>{'regressor__max_features': 5, 'preprocessing_...</td>\n",
       "      <td>0.938266</td>\n",
       "      <td>0.957183</td>\n",
       "      <td>0.955418</td>\n",
       "      <td>0.945382</td>\n",
       "      <td>0.939325</td>\n",
       "      <td>0.947115</td>\n",
       "      <td>0.007903</td>\n",
       "      <td>10</td>\n",
       "    </tr>\n",
       "    <tr>\n",
       "      <th>6</th>\n",
       "      <td>0.677421</td>\n",
       "      <td>0.003188</td>\n",
       "      <td>0.031705</td>\n",
       "      <td>0.001964</td>\n",
       "      <td>6</td>\n",
       "      <td>RobustScaler()</td>\n",
       "      <td>{'regressor__max_features': 6, 'preprocessing_...</td>\n",
       "      <td>0.958028</td>\n",
       "      <td>0.971029</td>\n",
       "      <td>0.967467</td>\n",
       "      <td>0.959311</td>\n",
       "      <td>0.963201</td>\n",
       "      <td>0.963807</td>\n",
       "      <td>0.004889</td>\n",
       "      <td>7</td>\n",
       "    </tr>\n",
       "    <tr>\n",
       "      <th>7</th>\n",
       "      <td>0.724690</td>\n",
       "      <td>0.003733</td>\n",
       "      <td>0.031666</td>\n",
       "      <td>0.000739</td>\n",
       "      <td>7</td>\n",
       "      <td>RobustScaler()</td>\n",
       "      <td>{'regressor__max_features': 7, 'preprocessing_...</td>\n",
       "      <td>0.968313</td>\n",
       "      <td>0.975583</td>\n",
       "      <td>0.977621</td>\n",
       "      <td>0.968669</td>\n",
       "      <td>0.973315</td>\n",
       "      <td>0.972700</td>\n",
       "      <td>0.003699</td>\n",
       "      <td>6</td>\n",
       "    </tr>\n",
       "    <tr>\n",
       "      <th>8</th>\n",
       "      <td>0.771121</td>\n",
       "      <td>0.002768</td>\n",
       "      <td>0.031689</td>\n",
       "      <td>0.000764</td>\n",
       "      <td>8</td>\n",
       "      <td>RobustScaler()</td>\n",
       "      <td>{'regressor__max_features': 8, 'preprocessing_...</td>\n",
       "      <td>0.971513</td>\n",
       "      <td>0.978073</td>\n",
       "      <td>0.981003</td>\n",
       "      <td>0.975343</td>\n",
       "      <td>0.979500</td>\n",
       "      <td>0.977086</td>\n",
       "      <td>0.003354</td>\n",
       "      <td>3</td>\n",
       "    </tr>\n",
       "    <tr>\n",
       "      <th>9</th>\n",
       "      <td>0.819383</td>\n",
       "      <td>0.001107</td>\n",
       "      <td>0.032354</td>\n",
       "      <td>0.001439</td>\n",
       "      <td>9</td>\n",
       "      <td>RobustScaler()</td>\n",
       "      <td>{'regressor__max_features': 9, 'preprocessing_...</td>\n",
       "      <td>0.975505</td>\n",
       "      <td>0.979197</td>\n",
       "      <td>0.982943</td>\n",
       "      <td>0.976104</td>\n",
       "      <td>0.983859</td>\n",
       "      <td>0.979522</td>\n",
       "      <td>0.003419</td>\n",
       "      <td>1</td>\n",
       "    </tr>\n",
       "  </tbody>\n",
       "</table>\n",
       "</div>"
      ],
      "text/plain": [
       "   mean_fit_time  std_fit_time  mean_score_time  std_score_time  \\\n",
       "0       0.628618      0.003068         0.032196        0.000196   \n",
       "1       0.677443      0.002907         0.031427        0.000940   \n",
       "2       0.720755      0.002876         0.030061        0.001796   \n",
       "3       0.766813      0.002175         0.031351        0.001979   \n",
       "4       0.824638      0.016219         0.031037        0.001774   \n",
       "5       0.628294      0.002613         0.031636        0.001886   \n",
       "6       0.677421      0.003188         0.031705        0.001964   \n",
       "7       0.724690      0.003733         0.031666        0.000739   \n",
       "8       0.771121      0.002768         0.031689        0.000764   \n",
       "9       0.819383      0.001107         0.032354        0.001439   \n",
       "\n",
       "  param_regressor__max_features param_preprocessing__num  \\\n",
       "0                             5         StandardScaler()   \n",
       "1                             6         StandardScaler()   \n",
       "2                             7         StandardScaler()   \n",
       "3                             8         StandardScaler()   \n",
       "4                             9         StandardScaler()   \n",
       "5                             5           RobustScaler()   \n",
       "6                             6           RobustScaler()   \n",
       "7                             7           RobustScaler()   \n",
       "8                             8           RobustScaler()   \n",
       "9                             9           RobustScaler()   \n",
       "\n",
       "                                              params  split0_test_score  \\\n",
       "0  {'regressor__max_features': 5, 'preprocessing_...           0.938281   \n",
       "1  {'regressor__max_features': 6, 'preprocessing_...           0.958123   \n",
       "2  {'regressor__max_features': 7, 'preprocessing_...           0.968380   \n",
       "3  {'regressor__max_features': 8, 'preprocessing_...           0.971521   \n",
       "4  {'regressor__max_features': 9, 'preprocessing_...           0.975453   \n",
       "5  {'regressor__max_features': 5, 'preprocessing_...           0.938266   \n",
       "6  {'regressor__max_features': 6, 'preprocessing_...           0.958028   \n",
       "7  {'regressor__max_features': 7, 'preprocessing_...           0.968313   \n",
       "8  {'regressor__max_features': 8, 'preprocessing_...           0.971513   \n",
       "9  {'regressor__max_features': 9, 'preprocessing_...           0.975505   \n",
       "\n",
       "   split1_test_score  split2_test_score  split3_test_score  split4_test_score  \\\n",
       "0           0.957287           0.955427           0.945367           0.939471   \n",
       "1           0.970866           0.967425           0.959189           0.963235   \n",
       "2           0.975616           0.977590           0.968567           0.973372   \n",
       "3           0.978041           0.980980           0.975260           0.979593   \n",
       "4           0.979125           0.982926           0.976068           0.983912   \n",
       "5           0.957183           0.955418           0.945382           0.939325   \n",
       "6           0.971029           0.967467           0.959311           0.963201   \n",
       "7           0.975583           0.977621           0.968669           0.973315   \n",
       "8           0.978073           0.981003           0.975343           0.979500   \n",
       "9           0.979197           0.982943           0.976104           0.983859   \n",
       "\n",
       "   mean_test_score  std_test_score  rank_test_score  \n",
       "0         0.947167        0.007900                9  \n",
       "1         0.963768        0.004835                8  \n",
       "2         0.972705        0.003704                5  \n",
       "3         0.977079        0.003366                4  \n",
       "4         0.979497        0.003450                2  \n",
       "5         0.947115        0.007903               10  \n",
       "6         0.963807        0.004889                7  \n",
       "7         0.972700        0.003699                6  \n",
       "8         0.977086        0.003354                3  \n",
       "9         0.979522        0.003419                1  "
      ]
     },
     "execution_count": 9,
     "metadata": {},
     "output_type": "execute_result"
    }
   ],
   "source": [
    "# Summary of grid search\n",
    "pd.DataFrame(search.cv_results_)"
   ]
  },
  {
   "cell_type": "code",
   "execution_count": 10,
   "metadata": {},
   "outputs": [
    {
     "name": "stdout",
     "output_type": "stream",
     "text": [
      "{'regressor__max_features': 9, 'preprocessing__num': RobustScaler()}\n",
      "Best scores:  0.9795216033170174\n"
     ]
    }
   ],
   "source": [
    "# Best fitted scores\n",
    "print(search.best_params_)\n",
    "print('Best scores: ', search.best_score_)"
   ]
  },
  {
   "cell_type": "markdown",
   "metadata": {},
   "source": [
    "**<font color='green'>Performance assessment</font>**"
   ]
  },
  {
   "cell_type": "code",
   "execution_count": 11,
   "metadata": {},
   "outputs": [],
   "source": [
    "# Test performance\n",
    "model_chosen = search.best_estimator_\n",
    "y_pred = model_chosen.predict(X_test)"
   ]
  },
  {
   "cell_type": "code",
   "execution_count": 12,
   "metadata": {},
   "outputs": [
    {
     "data": {
      "text/plain": [
       "118.80220984444445"
      ]
     },
     "execution_count": 12,
     "metadata": {},
     "output_type": "execute_result"
    }
   ],
   "source": [
    "# Test loss\n",
    "mean_squared_error(y_pred, y_test)"
   ]
  },
  {
   "cell_type": "code",
   "execution_count": 13,
   "metadata": {},
   "outputs": [
    {
     "data": {
      "text/plain": [
       "15.289794188376753"
      ]
     },
     "execution_count": 13,
     "metadata": {},
     "output_type": "execute_result"
    }
   ],
   "source": [
    "# Training loss\n",
    "mean_squared_error(y_train, model_chosen.predict(X_train))"
   ]
  },
  {
   "cell_type": "code",
   "execution_count": 14,
   "metadata": {},
   "outputs": [
    {
     "name": "stderr",
     "output_type": "stream",
     "text": [
      "C:\\Users\\user\\anaconda3\\envs\\mda\\lib\\site-packages\\seaborn\\_decorators.py:36: FutureWarning: Pass the following variables as keyword args: x, y. From version 0.12, the only valid positional argument will be `data`, and passing other arguments without an explicit keyword will result in an error or misinterpretation.\n",
      "  warnings.warn(\n"
     ]
    },
    {
     "data": {
      "text/plain": [
       "<AxesSubplot:xlabel='COUNT'>"
      ]
     },
     "execution_count": 14,
     "metadata": {},
     "output_type": "execute_result"
    },
    {
     "data": {
      "image/png": "[encoded data removed]",
      "text/plain": [
       "<Figure size 432x288 with 1 Axes>"
      ]
     },
     "metadata": {
      "needs_background": "light"
     },
     "output_type": "display_data"
    }
   ],
   "source": [
    "# Test data: y_test, y_pred\n",
    "sns.regplot(y_test, y_pred, color = 'red')"
   ]
  },
  {
   "cell_type": "code",
   "execution_count": 15,
   "metadata": {},
   "outputs": [
    {
     "data": {
      "text/plain": [
       "array([[1.        , 0.98988437],\n",
       "       [0.98988437, 1.        ]])"
      ]
     },
     "execution_count": 15,
     "metadata": {},
     "output_type": "execute_result"
    }
   ],
   "source": [
    "# R-squared between y_pred and y_test\n",
    "np.corrcoef(y_test, y_pred)"
   ]
  },
  {
   "cell_type": "code",
   "execution_count": 16,
   "metadata": {},
   "outputs": [
    {
     "data": {
      "text/plain": [
       "<AxesSubplot:xlabel='COUNT'>"
      ]
     },
     "execution_count": 16,
     "metadata": {},
     "output_type": "execute_result"
    },
    {
     "data": {
      "image/png": "[encoded data removed]",
      "text/plain": [
       "<Figure size 432x288 with 1 Axes>"
      ]
     },
     "metadata": {
      "needs_background": "light"
     },
     "output_type": "display_data"
    }
   ],
   "source": [
    "# Training data: y_test, y_pred_train\n",
    "y_pred_train = model_chosen.predict(X_train)\n",
    "sns.regplot(x = y_train, y = y_pred_train, color = 'blue')"
   ]
  },
  {
   "cell_type": "code",
   "execution_count": 17,
   "metadata": {},
   "outputs": [
    {
     "data": {
      "text/plain": [
       "array([[1.        , 0.99874573],\n",
       "       [0.99874573, 1.        ]])"
      ]
     },
     "execution_count": 17,
     "metadata": {},
     "output_type": "execute_result"
    }
   ],
   "source": [
    "# R-squared between y_pred and y_pred_train\n",
    "np.corrcoef(y_train, y_pred_train)"
   ]
  }
 ],
 "metadata": {
  "kernelspec": {
   "display_name": "Python 3",
   "language": "python",
   "name": "python3"
  },
  "language_info": {
   "codemirror_mode": {
    "name": "ipython",
    "version": 3
   },
   "file_extension": ".py",
   "mimetype": "text/x-python",
   "name": "python",
   "nbconvert_exporter": "python",
   "pygments_lexer": "ipython3",
   "version": "3.9.5"
  },
  "toc": {
   "base_numbering": 1,
   "nav_menu": {},
   "number_sections": true,
   "sideBar": true,
   "skip_h1_title": false,
   "title_cell": "Table of Contents",
   "title_sidebar": "Contents",
   "toc_cell": false,
   "toc_position": {},
   "toc_section_display": true,
   "toc_window_display": false
  }
 },
 "nbformat": 4,
 "nbformat_minor": 4
}
